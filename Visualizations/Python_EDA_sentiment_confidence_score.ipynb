{
 "cells": [
  {
   "cell_type": "code",
   "execution_count": 1,
   "id": "fd249bac",
   "metadata": {},
   "outputs": [],
   "source": [
    "import os\n",
    "import sys\n",
    "import numpy as np\n",
    "import pandas as pd\n",
    "import seaborn as sns\n",
    "import matplotlib.pyplot as plt"
   ]
  },
  {
   "cell_type": "code",
   "execution_count": 2,
   "id": "3b3d9775",
   "metadata": {},
   "outputs": [
    {
     "name": "stderr",
     "output_type": "stream",
     "text": [
      "/Users/stlp/opt/anaconda3/lib/python3.8/site-packages/IPython/core/interactiveshell.py:3165: DtypeWarning: Columns (36,37,38,39,40,41) have mixed types.Specify dtype option on import or set low_memory=False.\n",
      "  has_raised = await self.run_ast_nodes(code_ast.body, cell_name,\n"
     ]
    }
   ],
   "source": [
    "df = pd.read_csv(\"combined_data_20211217.csv\")"
   ]
  },
  {
   "cell_type": "code",
   "execution_count": 3,
   "id": "8f256138",
   "metadata": {},
   "outputs": [
    {
     "data": {
      "text/plain": [
       "Index(['Unnamed: 0', 'date', 'headline', 'message_x', 'link', 'domain',\n",
       "       'rating', 'orientation', 'sourceEchochamber', 'actualangryCount',\n",
       "       'actualcareCount', 'actualcommentCount', 'actualhahaCount',\n",
       "       'actuallikeCount', 'actualloveCount', 'actualsadCount',\n",
       "       'actualshareCount', 'actualthankfulCount', 'actualwowCount',\n",
       "       'expectedangryCount', 'expectedcareCount', 'expectedcommentCount',\n",
       "       'expectedhahaCount', 'expectedlikeCount', 'expectedloveCount',\n",
       "       'expectedsadCount', 'expectedshareCount', 'expectedthankfulCount',\n",
       "       'expectedwowCount', 'id', 'name', 'score', 'domainName', 'u_id',\n",
       "       'emotion', 'uid', 'sentiment', 'positive_confidence',\n",
       "       'neutral_confidence', 'negative_confidence', 'opinions',\n",
       "       'sentence_sentiments', 'ads_domain_total_count', 'ads_TAG_count',\n",
       "       'ads_highest_count', 'ads_domain_with_highest_count',\n",
       "       'topic_monthly_pageviews', 'newsguard_parent_domain',\n",
       "       'newsguard_rating', 'newsguard_avg_score', 'newsguard_orientation',\n",
       "       'newsguard_flags', 'adcontent_1', 'adcontent_2', 'adcontent_3',\n",
       "       'adcontent_4', 'adcontent_5', 'adcontent_6', 'adcontent_7',\n",
       "       'adcontent_8', 'adcontent_9', 'sublink_1', 'sublink_2', 'sublink_3',\n",
       "       'sublink_4', 'sublink_5', 'sublink_6', 'sublink_7', 'sublink_8',\n",
       "       'sublink_9', 'biden', 'pseudoscience', 'misogyny', 'climatedenial',\n",
       "       'antilatinx', '5g', 'whitesupremacy', 'antiblack', 'aliens',\n",
       "       'antisemitic', 'antilgbt', 'antivaxx', 'voterfraud', 'coronavirus',\n",
       "       'qanon', 'votinglaws', 'antiimmigrant', 'antimuslim', 'antiasian',\n",
       "       'bigtech'],\n",
       "      dtype='object')"
      ]
     },
     "execution_count": 3,
     "metadata": {},
     "output_type": "execute_result"
    }
   ],
   "source": [
    "df.columns"
   ]
  },
  {
   "cell_type": "markdown",
   "id": "ae128f35",
   "metadata": {},
   "source": [
    "## Exploration: TNR vs confidence score"
   ]
  },
  {
   "cell_type": "code",
   "execution_count": 3,
   "id": "38ad68fc",
   "metadata": {},
   "outputs": [
    {
     "data": {
      "text/html": [
       "<div>\n",
       "<style scoped>\n",
       "    .dataframe tbody tr th:only-of-type {\n",
       "        vertical-align: middle;\n",
       "    }\n",
       "\n",
       "    .dataframe tbody tr th {\n",
       "        vertical-align: top;\n",
       "    }\n",
       "\n",
       "    .dataframe thead th {\n",
       "        text-align: right;\n",
       "    }\n",
       "</style>\n",
       "<table border=\"1\" class=\"dataframe\">\n",
       "  <thead>\n",
       "    <tr style=\"text-align: right;\">\n",
       "      <th></th>\n",
       "      <th>positive_confidence</th>\n",
       "      <th>rating</th>\n",
       "      <th>neutral_confidence</th>\n",
       "      <th>negative_confidence</th>\n",
       "      <th>ads_domain_total_count</th>\n",
       "    </tr>\n",
       "  </thead>\n",
       "  <tbody>\n",
       "    <tr>\n",
       "      <th>0</th>\n",
       "      <td>ERROR</td>\n",
       "      <td>N</td>\n",
       "      <td>ERROR</td>\n",
       "      <td>ERROR</td>\n",
       "      <td>402.0</td>\n",
       "    </tr>\n",
       "    <tr>\n",
       "      <th>1</th>\n",
       "      <td>0.47</td>\n",
       "      <td>T</td>\n",
       "      <td>0.14</td>\n",
       "      <td>0.39</td>\n",
       "      <td>20.0</td>\n",
       "    </tr>\n",
       "    <tr>\n",
       "      <th>2</th>\n",
       "      <td>0.01</td>\n",
       "      <td>T</td>\n",
       "      <td>0.01</td>\n",
       "      <td>0.98</td>\n",
       "      <td>1957.0</td>\n",
       "    </tr>\n",
       "    <tr>\n",
       "      <th>3</th>\n",
       "      <td>ERROR</td>\n",
       "      <td>T</td>\n",
       "      <td>ERROR</td>\n",
       "      <td>ERROR</td>\n",
       "      <td>127.0</td>\n",
       "    </tr>\n",
       "    <tr>\n",
       "      <th>4</th>\n",
       "      <td>ERROR</td>\n",
       "      <td>T</td>\n",
       "      <td>ERROR</td>\n",
       "      <td>ERROR</td>\n",
       "      <td>482.0</td>\n",
       "    </tr>\n",
       "    <tr>\n",
       "      <th>...</th>\n",
       "      <td>...</td>\n",
       "      <td>...</td>\n",
       "      <td>...</td>\n",
       "      <td>...</td>\n",
       "      <td>...</td>\n",
       "    </tr>\n",
       "    <tr>\n",
       "      <th>911813</th>\n",
       "      <td>NaN</td>\n",
       "      <td>T</td>\n",
       "      <td>NaN</td>\n",
       "      <td>NaN</td>\n",
       "      <td>10.0</td>\n",
       "    </tr>\n",
       "    <tr>\n",
       "      <th>911814</th>\n",
       "      <td>NaN</td>\n",
       "      <td>T</td>\n",
       "      <td>NaN</td>\n",
       "      <td>NaN</td>\n",
       "      <td>54.0</td>\n",
       "    </tr>\n",
       "    <tr>\n",
       "      <th>911815</th>\n",
       "      <td>NaN</td>\n",
       "      <td>T</td>\n",
       "      <td>NaN</td>\n",
       "      <td>NaN</td>\n",
       "      <td>NaN</td>\n",
       "    </tr>\n",
       "    <tr>\n",
       "      <th>911816</th>\n",
       "      <td>NaN</td>\n",
       "      <td>T</td>\n",
       "      <td>NaN</td>\n",
       "      <td>NaN</td>\n",
       "      <td>10.0</td>\n",
       "    </tr>\n",
       "    <tr>\n",
       "      <th>911817</th>\n",
       "      <td>NaN</td>\n",
       "      <td>T</td>\n",
       "      <td>NaN</td>\n",
       "      <td>NaN</td>\n",
       "      <td>32.0</td>\n",
       "    </tr>\n",
       "  </tbody>\n",
       "</table>\n",
       "<p>911818 rows × 5 columns</p>\n",
       "</div>"
      ],
      "text/plain": [
       "       positive_confidence rating neutral_confidence negative_confidence  \\\n",
       "0                    ERROR      N              ERROR               ERROR   \n",
       "1                     0.47      T               0.14                0.39   \n",
       "2                     0.01      T               0.01                0.98   \n",
       "3                    ERROR      T              ERROR               ERROR   \n",
       "4                    ERROR      T              ERROR               ERROR   \n",
       "...                    ...    ...                ...                 ...   \n",
       "911813                 NaN      T                NaN                 NaN   \n",
       "911814                 NaN      T                NaN                 NaN   \n",
       "911815                 NaN      T                NaN                 NaN   \n",
       "911816                 NaN      T                NaN                 NaN   \n",
       "911817                 NaN      T                NaN                 NaN   \n",
       "\n",
       "        ads_domain_total_count  \n",
       "0                        402.0  \n",
       "1                         20.0  \n",
       "2                       1957.0  \n",
       "3                        127.0  \n",
       "4                        482.0  \n",
       "...                        ...  \n",
       "911813                    10.0  \n",
       "911814                    54.0  \n",
       "911815                     NaN  \n",
       "911816                    10.0  \n",
       "911817                    32.0  \n",
       "\n",
       "[911818 rows x 5 columns]"
      ]
     },
     "execution_count": 3,
     "metadata": {},
     "output_type": "execute_result"
    }
   ],
   "source": [
    "df1 = df[['positive_confidence', 'rating', 'neutral_confidence', 'negative_confidence', 'ads_domain_total_count']]\n",
    "df1"
   ]
  },
  {
   "cell_type": "code",
   "execution_count": 4,
   "id": "376cad24",
   "metadata": {},
   "outputs": [
    {
     "data": {
      "text/html": [
       "<div>\n",
       "<style scoped>\n",
       "    .dataframe tbody tr th:only-of-type {\n",
       "        vertical-align: middle;\n",
       "    }\n",
       "\n",
       "    .dataframe tbody tr th {\n",
       "        vertical-align: top;\n",
       "    }\n",
       "\n",
       "    .dataframe thead th {\n",
       "        text-align: right;\n",
       "    }\n",
       "</style>\n",
       "<table border=\"1\" class=\"dataframe\">\n",
       "  <thead>\n",
       "    <tr style=\"text-align: right;\">\n",
       "      <th></th>\n",
       "      <th>positive_confidence</th>\n",
       "      <th>rating</th>\n",
       "      <th>neutral_confidence</th>\n",
       "      <th>negative_confidence</th>\n",
       "      <th>ads_domain_total_count</th>\n",
       "    </tr>\n",
       "  </thead>\n",
       "  <tbody>\n",
       "    <tr>\n",
       "      <th>1</th>\n",
       "      <td>0.47</td>\n",
       "      <td>T</td>\n",
       "      <td>0.14</td>\n",
       "      <td>0.39</td>\n",
       "      <td>20.0</td>\n",
       "    </tr>\n",
       "    <tr>\n",
       "      <th>2</th>\n",
       "      <td>0.01</td>\n",
       "      <td>T</td>\n",
       "      <td>0.01</td>\n",
       "      <td>0.98</td>\n",
       "      <td>1957.0</td>\n",
       "    </tr>\n",
       "    <tr>\n",
       "      <th>8</th>\n",
       "      <td>0.9</td>\n",
       "      <td>T</td>\n",
       "      <td>0.07</td>\n",
       "      <td>0.03</td>\n",
       "      <td>203.0</td>\n",
       "    </tr>\n",
       "    <tr>\n",
       "      <th>10</th>\n",
       "      <td>0.13</td>\n",
       "      <td>T</td>\n",
       "      <td>0.67</td>\n",
       "      <td>0.2</td>\n",
       "      <td>468.0</td>\n",
       "    </tr>\n",
       "    <tr>\n",
       "      <th>13</th>\n",
       "      <td>0.0</td>\n",
       "      <td>N</td>\n",
       "      <td>0.02</td>\n",
       "      <td>0.98</td>\n",
       "      <td>54.0</td>\n",
       "    </tr>\n",
       "    <tr>\n",
       "      <th>...</th>\n",
       "      <td>...</td>\n",
       "      <td>...</td>\n",
       "      <td>...</td>\n",
       "      <td>...</td>\n",
       "      <td>...</td>\n",
       "    </tr>\n",
       "    <tr>\n",
       "      <th>882873</th>\n",
       "      <td>0.2</td>\n",
       "      <td>T</td>\n",
       "      <td>0.78</td>\n",
       "      <td>0.02</td>\n",
       "      <td>NaN</td>\n",
       "    </tr>\n",
       "    <tr>\n",
       "      <th>882876</th>\n",
       "      <td>0.15</td>\n",
       "      <td>T</td>\n",
       "      <td>0.82</td>\n",
       "      <td>0.03</td>\n",
       "      <td>NaN</td>\n",
       "    </tr>\n",
       "    <tr>\n",
       "      <th>882877</th>\n",
       "      <td>0.05</td>\n",
       "      <td>T</td>\n",
       "      <td>0.94</td>\n",
       "      <td>0.01</td>\n",
       "      <td>141.0</td>\n",
       "    </tr>\n",
       "    <tr>\n",
       "      <th>882878</th>\n",
       "      <td>0.0</td>\n",
       "      <td>T</td>\n",
       "      <td>0.0</td>\n",
       "      <td>1.0</td>\n",
       "      <td>52.0</td>\n",
       "    </tr>\n",
       "    <tr>\n",
       "      <th>882880</th>\n",
       "      <td>0.34</td>\n",
       "      <td>T</td>\n",
       "      <td>0.37</td>\n",
       "      <td>0.29</td>\n",
       "      <td>44.0</td>\n",
       "    </tr>\n",
       "  </tbody>\n",
       "</table>\n",
       "<p>441317 rows × 5 columns</p>\n",
       "</div>"
      ],
      "text/plain": [
       "       positive_confidence rating neutral_confidence negative_confidence  \\\n",
       "1                     0.47      T               0.14                0.39   \n",
       "2                     0.01      T               0.01                0.98   \n",
       "8                      0.9      T               0.07                0.03   \n",
       "10                    0.13      T               0.67                 0.2   \n",
       "13                     0.0      N               0.02                0.98   \n",
       "...                    ...    ...                ...                 ...   \n",
       "882873                 0.2      T               0.78                0.02   \n",
       "882876                0.15      T               0.82                0.03   \n",
       "882877                0.05      T               0.94                0.01   \n",
       "882878                 0.0      T                0.0                 1.0   \n",
       "882880                0.34      T               0.37                0.29   \n",
       "\n",
       "        ads_domain_total_count  \n",
       "1                         20.0  \n",
       "2                       1957.0  \n",
       "8                        203.0  \n",
       "10                       468.0  \n",
       "13                        54.0  \n",
       "...                        ...  \n",
       "882873                     NaN  \n",
       "882876                     NaN  \n",
       "882877                   141.0  \n",
       "882878                    52.0  \n",
       "882880                    44.0  \n",
       "\n",
       "[441317 rows x 5 columns]"
      ]
     },
     "execution_count": 4,
     "metadata": {},
     "output_type": "execute_result"
    }
   ],
   "source": [
    "df1 = df1[df1.positive_confidence != \"ERROR\"]\n",
    "df1 = df1[df1['positive_confidence'].notna()]\n",
    "\n",
    "df1 = df1[df1.neutral_confidence != \"ERROR\"]\n",
    "df1 = df1[df1['neutral_confidence'].notna()]\n",
    "\n",
    "df1 = df1[df1.negative_confidence != \"ERROR\"]\n",
    "df1 = df1[df1['negative_confidence'].notna()]\n",
    "\n",
    "df1"
   ]
  },
  {
   "cell_type": "code",
   "execution_count": 14,
   "id": "e9fafcd2",
   "metadata": {},
   "outputs": [],
   "source": [
    "df1[\"positive_confidence\"] = pd.to_numeric(df1[\"positive_confidence\"])\n",
    "df1[\"neutral_confidence\"] = pd.to_numeric(df1[\"neutral_confidence\"])\n",
    "df1[\"negative_confidence\"] = pd.to_numeric(df1[\"negative_confidence\"])"
   ]
  },
  {
   "cell_type": "code",
   "execution_count": 16,
   "id": "5241d1fc",
   "metadata": {},
   "outputs": [
    {
     "data": {
      "text/plain": [
       "0.19592836313510079"
      ]
     },
     "execution_count": 16,
     "metadata": {},
     "output_type": "execute_result"
    }
   ],
   "source": [
    "t_pos = df1.loc[df1['rating'] == 'T', 'positive_confidence'].mean()\n",
    "t_pos"
   ]
  },
  {
   "cell_type": "code",
   "execution_count": 17,
   "id": "9c8a65c1",
   "metadata": {},
   "outputs": [
    {
     "data": {
      "text/plain": [
       "0.19941981432816883"
      ]
     },
     "execution_count": 17,
     "metadata": {},
     "output_type": "execute_result"
    }
   ],
   "source": [
    "n_pos = df1.loc[df1['rating'] == 'N', 'positive_confidence'].mean()\n",
    "n_pos"
   ]
  },
  {
   "cell_type": "code",
   "execution_count": 18,
   "id": "8c8b43ff",
   "metadata": {},
   "outputs": [
    {
     "data": {
      "text/plain": [
       "0.17259874511421555"
      ]
     },
     "execution_count": 18,
     "metadata": {},
     "output_type": "execute_result"
    }
   ],
   "source": [
    "r_pos = df1.loc[df1['rating'] == 'R', 'positive_confidence'].mean()\n",
    "r_pos"
   ]
  },
  {
   "cell_type": "code",
   "execution_count": 20,
   "id": "f263e3dd",
   "metadata": {},
   "outputs": [
    {
     "name": "stdout",
     "output_type": "stream",
     "text": [
      "  rating  positive_confidence\n",
      "0      T             0.195928\n",
      "1      N             0.199420\n",
      "2      R             0.172599\n"
     ]
    }
   ],
   "source": [
    "# assign data of lists.\n",
    "data = {'rating': ['T', 'N', 'R'], 'positive_confidence': [t_pos, n_pos, r_pos]}\n",
    "# Create DataFrame.\n",
    "df2 = pd.DataFrame(data)\n",
    "# Print the output.\n",
    "print(df2)"
   ]
  },
  {
   "cell_type": "code",
   "execution_count": 21,
   "id": "68b86d06",
   "metadata": {},
   "outputs": [],
   "source": [
    "t_neu = df1.loc[df1['rating'] == 'T', 'neutral_confidence'].mean()\n",
    "n_neu = df1.loc[df1['rating'] == 'N', 'neutral_confidence'].mean()\n",
    "r_neu = df1.loc[df1['rating'] == 'R', 'neutral_confidence'].mean()"
   ]
  },
  {
   "cell_type": "code",
   "execution_count": 23,
   "id": "c03bff0c",
   "metadata": {},
   "outputs": [
    {
     "name": "stdout",
     "output_type": "stream",
     "text": [
      "  rating  neutral_confidence\n",
      "0      T            0.323164\n",
      "1      N            0.344738\n",
      "2      R            0.383395\n"
     ]
    }
   ],
   "source": [
    "data = {'rating': ['T', 'N', 'R'], 'neutral_confidence': [t_neu, n_neu, r_neu]}\n",
    "# Create DataFrame.\n",
    "dfp = pd.DataFrame(data)\n",
    "# Print the output.\n",
    "print(dfp)"
   ]
  },
  {
   "cell_type": "code",
   "execution_count": 24,
   "id": "37aa2fa1",
   "metadata": {},
   "outputs": [
    {
     "data": {
      "text/html": [
       "<div>\n",
       "<style scoped>\n",
       "    .dataframe tbody tr th:only-of-type {\n",
       "        vertical-align: middle;\n",
       "    }\n",
       "\n",
       "    .dataframe tbody tr th {\n",
       "        vertical-align: top;\n",
       "    }\n",
       "\n",
       "    .dataframe thead th {\n",
       "        text-align: right;\n",
       "    }\n",
       "</style>\n",
       "<table border=\"1\" class=\"dataframe\">\n",
       "  <thead>\n",
       "    <tr style=\"text-align: right;\">\n",
       "      <th></th>\n",
       "      <th>rating</th>\n",
       "      <th>positive_confidence</th>\n",
       "      <th>neutral_confidence</th>\n",
       "    </tr>\n",
       "  </thead>\n",
       "  <tbody>\n",
       "    <tr>\n",
       "      <th>0</th>\n",
       "      <td>T</td>\n",
       "      <td>0.195928</td>\n",
       "      <td>0.323164</td>\n",
       "    </tr>\n",
       "    <tr>\n",
       "      <th>1</th>\n",
       "      <td>N</td>\n",
       "      <td>0.199420</td>\n",
       "      <td>0.344738</td>\n",
       "    </tr>\n",
       "    <tr>\n",
       "      <th>2</th>\n",
       "      <td>R</td>\n",
       "      <td>0.172599</td>\n",
       "      <td>0.383395</td>\n",
       "    </tr>\n",
       "  </tbody>\n",
       "</table>\n",
       "</div>"
      ],
      "text/plain": [
       "  rating  positive_confidence  neutral_confidence\n",
       "0      T             0.195928            0.323164\n",
       "1      N             0.199420            0.344738\n",
       "2      R             0.172599            0.383395"
      ]
     },
     "execution_count": 24,
     "metadata": {},
     "output_type": "execute_result"
    }
   ],
   "source": [
    "df2['neutral_confidence'] = dfp['neutral_confidence']\n",
    "df2"
   ]
  },
  {
   "cell_type": "code",
   "execution_count": 25,
   "id": "12d6c695",
   "metadata": {},
   "outputs": [
    {
     "name": "stdout",
     "output_type": "stream",
     "text": [
      "  rating  negative_confidence\n",
      "0      T             0.480907\n",
      "1      N             0.455842\n",
      "2      R             0.444007\n"
     ]
    }
   ],
   "source": [
    "t_neg = df1.loc[df1['rating'] == 'T', 'negative_confidence'].mean()\n",
    "n_neg = df1.loc[df1['rating'] == 'N', 'negative_confidence'].mean()\n",
    "r_neg = df1.loc[df1['rating'] == 'R', 'negative_confidence'].mean()\n",
    "\n",
    "data = {'rating': ['T', 'N', 'R'], 'negative_confidence': [t_neg, n_neg, r_neg]}\n",
    "# Create DataFrame.\n",
    "dfp = pd.DataFrame(data)\n",
    "# Print the output.\n",
    "print(dfp)"
   ]
  },
  {
   "cell_type": "code",
   "execution_count": 26,
   "id": "aaabe314",
   "metadata": {},
   "outputs": [
    {
     "data": {
      "text/html": [
       "<div>\n",
       "<style scoped>\n",
       "    .dataframe tbody tr th:only-of-type {\n",
       "        vertical-align: middle;\n",
       "    }\n",
       "\n",
       "    .dataframe tbody tr th {\n",
       "        vertical-align: top;\n",
       "    }\n",
       "\n",
       "    .dataframe thead th {\n",
       "        text-align: right;\n",
       "    }\n",
       "</style>\n",
       "<table border=\"1\" class=\"dataframe\">\n",
       "  <thead>\n",
       "    <tr style=\"text-align: right;\">\n",
       "      <th></th>\n",
       "      <th>rating</th>\n",
       "      <th>positive_confidence</th>\n",
       "      <th>neutral_confidence</th>\n",
       "      <th>negative_confidence</th>\n",
       "    </tr>\n",
       "  </thead>\n",
       "  <tbody>\n",
       "    <tr>\n",
       "      <th>0</th>\n",
       "      <td>T</td>\n",
       "      <td>0.195928</td>\n",
       "      <td>0.323164</td>\n",
       "      <td>0.480907</td>\n",
       "    </tr>\n",
       "    <tr>\n",
       "      <th>1</th>\n",
       "      <td>N</td>\n",
       "      <td>0.199420</td>\n",
       "      <td>0.344738</td>\n",
       "      <td>0.455842</td>\n",
       "    </tr>\n",
       "    <tr>\n",
       "      <th>2</th>\n",
       "      <td>R</td>\n",
       "      <td>0.172599</td>\n",
       "      <td>0.383395</td>\n",
       "      <td>0.444007</td>\n",
       "    </tr>\n",
       "  </tbody>\n",
       "</table>\n",
       "</div>"
      ],
      "text/plain": [
       "  rating  positive_confidence  neutral_confidence  negative_confidence\n",
       "0      T             0.195928            0.323164             0.480907\n",
       "1      N             0.199420            0.344738             0.455842\n",
       "2      R             0.172599            0.383395             0.444007"
      ]
     },
     "execution_count": 26,
     "metadata": {},
     "output_type": "execute_result"
    }
   ],
   "source": [
    "df2['negative_confidence'] = dfp['negative_confidence']\n",
    "df2"
   ]
  },
  {
   "cell_type": "code",
   "execution_count": 42,
   "id": "c93d28a8",
   "metadata": {},
   "outputs": [
    {
     "data": {
      "text/plain": [
       "<matplotlib.legend.Legend at 0x7fdba53b5100>"
      ]
     },
     "execution_count": 42,
     "metadata": {},
     "output_type": "execute_result"
    },
    {
     "data": {
      "image/png": "[encoded data removed]",
      "text/plain": [
       "<Figure size 504x252 with 1 Axes>"
      ]
     },
     "metadata": {},
     "output_type": "display_data"
    }
   ],
   "source": [
    "sns.barplot(x ='rating', y ='positive_confidence', data = df2, hue ='rating')\n",
    "plt.legend([],[], frameon=False)"
   ]
  },
  {
   "cell_type": "code",
   "execution_count": 44,
   "id": "5af5ed0b",
   "metadata": {},
   "outputs": [
    {
     "data": {
      "text/plain": [
       "<matplotlib.legend.Legend at 0x7fdba5358c40>"
      ]
     },
     "execution_count": 44,
     "metadata": {},
     "output_type": "execute_result"
    },
    {
     "data": {
      "image/png": "[encoded data removed]",
      "text/plain": [
       "<Figure size 504x252 with 1 Axes>"
      ]
     },
     "metadata": {},
     "output_type": "display_data"
    }
   ],
   "source": [
    "sns.barplot(x ='rating', y ='neutral_confidence', data = df2, hue ='rating')\n",
    "plt.legend([],[], frameon=False)"
   ]
  },
  {
   "cell_type": "code",
   "execution_count": 45,
   "id": "c8fc9cd7",
   "metadata": {},
   "outputs": [
    {
     "data": {
      "text/plain": [
       "<matplotlib.legend.Legend at 0x7fdba4cef460>"
      ]
     },
     "execution_count": 45,
     "metadata": {},
     "output_type": "execute_result"
    },
    {
     "data": {
      "image/png": "[encoded data removed]",
      "text/plain": [
       "<Figure size 504x252 with 1 Axes>"
      ]
     },
     "metadata": {},
     "output_type": "display_data"
    }
   ],
   "source": [
    "sns.barplot(x ='rating', y ='negative_confidence', data = df2, hue ='rating')\n",
    "plt.legend([],[], frameon=False)"
   ]
  },
  {
   "cell_type": "markdown",
   "id": "4cdd1261",
   "metadata": {},
   "source": [
    "## Sentiment Confidence Score"
   ]
  },
  {
   "cell_type": "code",
   "execution_count": 61,
   "id": "21d77419",
   "metadata": {},
   "outputs": [
    {
     "data": {
      "text/plain": [
       "Text(0.5, 1.0, 'Average negative_confidence')"
      ]
     },
     "execution_count": 61,
     "metadata": {},
     "output_type": "execute_result"
    },
    {
     "data": {
      "image/png": "[encoded data removed]",
      "text/plain": [
       "<Figure size 1080x360 with 3 Axes>"
      ]
     },
     "metadata": {},
     "output_type": "display_data"
    }
   ],
   "source": [
    "fig, axes = plt.subplots(1, 3, figsize=(15, 5), sharey=True) \n",
    "fig.suptitle('Average Confidence Scorces by Rating', size=20)\n",
    "\n",
    "# Bulbasaur\n",
    "sns.barplot(ax=axes[0], x=df2.rating, y=df2.positive_confidence)\n",
    "axes[0].set_title(\"Average positive_confidence\")\n",
    "\n",
    "# Charmander\n",
    "sns.barplot(ax=axes[1], x=df2.rating, y=df2.neutral_confidence)\n",
    "axes[1].set_title(\"Average neutral_confidence\")\n",
    "\n",
    "# Squirtle\n",
    "sns.barplot(ax=axes[2], x=df2.rating, y=df2.negative_confidence)\n",
    "axes[2].set_title(\"Average negative_confidence\")"
   ]
  },
  {
   "cell_type": "code",
   "execution_count": null,
   "id": "9d9320e7",
   "metadata": {},
   "outputs": [],
   "source": []
  }
 ],
 "metadata": {
  "kernelspec": {
   "display_name": "Python 3 (ipykernel)",
   "language": "python",
   "name": "python3"
  },
  "language_info": {
   "codemirror_mode": {
    "name": "ipython",
    "version": 3
   },
   "file_extension": ".py",
   "mimetype": "text/x-python",
   "name": "python",
   "nbconvert_exporter": "python",
   "pygments_lexer": "ipython3",
   "version": "3.8.9"
  }
 },
 "nbformat": 4,
 "nbformat_minor": 5
}
