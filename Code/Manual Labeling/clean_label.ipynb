{
 "cells": [
  {
   "cell_type": "code",
   "execution_count": 1,
   "metadata": {},
   "outputs": [],
   "source": [
    "import pandas as pd"
   ]
  },
  {
   "cell_type": "code",
   "execution_count": 3,
   "metadata": {},
   "outputs": [],
   "source": [
    "data = pd.read_csv('./inference/inference_result.csv')"
   ]
  },
  {
   "cell_type": "code",
   "execution_count": 20,
   "metadata": {},
   "outputs": [],
   "source": [
    "data_col_names = data.columns"
   ]
  },
  {
   "cell_type": "code",
   "execution_count": 44,
   "metadata": {},
   "outputs": [
    {
     "data": {
      "text/plain": [
       "'biden, trump'"
      ]
     },
     "execution_count": 44,
     "metadata": {},
     "output_type": "execute_result"
    }
   ],
   "source": [
    "data_col_names[115]"
   ]
  },
  {
   "cell_type": "code",
   "execution_count": 52,
   "metadata": {},
   "outputs": [],
   "source": [
    "compressed = data.iloc[:,2:].idxmax(axis=1)\n",
    "data_compressed = pd.DataFrame(compressed, columns=['label'])"
   ]
  },
  {
   "cell_type": "code",
   "execution_count": 53,
   "metadata": {},
   "outputs": [],
   "source": [
    "new_data = data.iloc[:,:2].join(data_compressed)"
   ]
  },
  {
   "cell_type": "code",
   "execution_count": 109,
   "metadata": {},
   "outputs": [],
   "source": [
    "data_v1 = new_data.set_index(['uid', 'full_text']) \\\n",
    "                .apply(lambda x: x.str.split(',').explode()).reset_index()"
   ]
  },
  {
   "cell_type": "code",
   "execution_count": 110,
   "metadata": {},
   "outputs": [],
   "source": [
    "data_v2 = data_v1.set_index(['uid', 'full_text']) \\\n",
    "                .apply(lambda x: x.str.split(';').explode()).reset_index()"
   ]
  },
  {
   "cell_type": "code",
   "execution_count": 111,
   "metadata": {},
   "outputs": [],
   "source": [
    "data_final = data_v2.dropna()"
   ]
  },
  {
   "cell_type": "code",
   "execution_count": 112,
   "metadata": {},
   "outputs": [],
   "source": [
    "for i in range(len(data_final)):\n",
    "    data_final.iloc[i,-1] = data_final.iloc[i,-1].strip()"
   ]
  },
  {
   "cell_type": "code",
   "execution_count": 113,
   "metadata": {},
   "outputs": [],
   "source": [
    "one_hot = pd.get_dummies(data_final['label'])\n",
    "data_final.drop(columns = 'label', axis=1, inplace=True)\n",
    "data_one_hot = data_final.join(one_hot)"
   ]
  },
  {
   "cell_type": "code",
   "execution_count": 115,
   "metadata": {},
   "outputs": [
    {
     "data": {
      "text/plain": [
       "Index(['uid', 'full_text', '5G', '5g', '6-Jan', '911', 'AIDS', 'Afghanistan',\n",
       "       'Anti-Immigrant', 'Art',\n",
       "       ...\n",
       "       'vaccine', 'vegan', 'volcano', 'voter fruad', 'voting', 'votinglaws',\n",
       "       'weed', 'white house', 'white supremacy', 'whitehouse'],\n",
       "      dtype='object', length=255)"
      ]
     },
     "execution_count": 115,
     "metadata": {},
     "output_type": "execute_result"
    }
   ],
   "source": [
    "data_one_hot.columns"
   ]
  },
  {
   "cell_type": "code",
   "execution_count": 118,
   "metadata": {},
   "outputs": [],
   "source": [
    "columns = pd.DataFrame(data_one_hot.columns,columns=['name'])\n",
    "columns.to_csv('new_col_name.csv', index=False)"
   ]
  },
  {
   "cell_type": "code",
   "execution_count": 120,
   "metadata": {},
   "outputs": [],
   "source": [
    "data_one_hot.reset_index(drop=True,inplace=True)"
   ]
  },
  {
   "cell_type": "code",
   "execution_count": 122,
   "metadata": {},
   "outputs": [
    {
     "data": {
      "text/plain": [
       "0       0\n",
       "1       0\n",
       "2       0\n",
       "3       0\n",
       "4       0\n",
       "       ..\n",
       "1451    0\n",
       "1452    0\n",
       "1453    0\n",
       "1454    0\n",
       "1455    0\n",
       "Name: secual abuse, Length: 1456, dtype: uint8"
      ]
     },
     "execution_count": 122,
     "metadata": {},
     "output_type": "execute_result"
    }
   ],
   "source": [
    "data_one_hot.iloc[:,226]"
   ]
  },
  {
   "cell_type": "code",
   "execution_count": 123,
   "metadata": {},
   "outputs": [],
   "source": [
    "data_one_hot.rename(columns={\"secual abuse\":\"sexual abuse\"},inplace=True)"
   ]
  },
  {
   "cell_type": "code",
   "execution_count": 124,
   "metadata": {},
   "outputs": [
    {
     "data": {
      "text/plain": [
       "0       0\n",
       "1       0\n",
       "2       0\n",
       "3       0\n",
       "4       0\n",
       "       ..\n",
       "1451    0\n",
       "1452    0\n",
       "1453    0\n",
       "1454    0\n",
       "1455    0\n",
       "Name: sexual abuse, Length: 1456, dtype: uint8"
      ]
     },
     "execution_count": 124,
     "metadata": {},
     "output_type": "execute_result"
    }
   ],
   "source": [
    "data_one_hot.iloc[:,226]"
   ]
  },
  {
   "cell_type": "code",
   "execution_count": 157,
   "metadata": {},
   "outputs": [],
   "source": [
    "df = data_one_hot.copy()"
   ]
  },
  {
   "cell_type": "code",
   "execution_count": 158,
   "metadata": {},
   "outputs": [],
   "source": [
    "new_name_dict = {'5g':[2,3], \n",
    "                 'January 6th':[4,49,50,51,117], \n",
    "                 'Biden':[12,110],\n",
    "                 'covid':[19,132,133],\n",
    "                 'Canada':[21,116],\n",
    "                 'CDC':[17,119],\n",
    "                 'celebrity':[22,23,24,120],\n",
    "                 'China':[25,123],\n",
    "                 'Christian':[26,124],\n",
    "                 'Clinton':[28,45,46,126],\n",
    "                 'democrats':[34,35,136,137],\n",
    "                 'Harris':[43,54,158],\n",
    "                 'omicron':[65,196],\n",
    "                 'Pelosi':[66,200],\n",
    "                 'protest':[69,208],\n",
    "                 'republican':[72,217,218],\n",
    "                 'Russia':[73,220,221],\n",
    "                 'terrorism':[78,240],\n",
    "                 'transgender':[241,80],\n",
    "                 'Trump':[83,242],\n",
    "                 'Ukraine':[85,86,243],\n",
    "                 'vaccine':[87,244,245],\n",
    "                 'White House':[89,252,254],\n",
    "                 'white supremacy':[90,253],\n",
    "                 'actor and actress':[94,95,96],\n",
    "                 'antivaxx':[99,105,106],\n",
    "                 'entertainment':[142,143],\n",
    "                 'law':[169,170],\n",
    "                 'mask mandate':[178,180,181],\n",
    "                 'racism':[212,213],\n",
    "                 'religion':[215,216],\n",
    "                 'sports':[230,232],\n",
    "                 'supply':[237,238]}\n",
    "for key in new_name_dict.keys():\n",
    "    value = new_name_dict[key]\n",
    "    for i in range(len(value) - 1):\n",
    "        df['new_column_' + key] = data_one_hot.iloc[:,value[i]] + data_one_hot.iloc[:,value[i+1]]"
   ]
  },
  {
   "cell_type": "code",
   "execution_count": 159,
   "metadata": {},
   "outputs": [],
   "source": [
    "col_names = data_one_hot.columns\n",
    "delete_list = []\n",
    "delete_col_number = []\n",
    "for key in new_name_dict.keys():\n",
    "    value = new_name_dict[key]\n",
    "    for i in range(len(value)):\n",
    "        delete_col_number.append(value[i])\n",
    "for i in delete_col_number:\n",
    "    delete_list.append(col_names[i])"
   ]
  },
  {
   "cell_type": "code",
   "execution_count": 160,
   "metadata": {},
   "outputs": [
    {
     "data": {
      "text/plain": [
       "['5G',\n",
       " '5g',\n",
       " '6-Jan',\n",
       " 'January 6 Attack',\n",
       " 'Janurary 6 Attack',\n",
       " 'Janurary 6th',\n",
       " 'capitol attack',\n",
       " 'Biden',\n",
       " 'biden',\n",
       " 'COVID',\n",
       " 'covid',\n",
       " 'covid20',\n",
       " 'Canada',\n",
       " 'canada',\n",
       " 'CDC',\n",
       " 'cdc',\n",
       " 'Celebritie',\n",
       " 'Celebrities',\n",
       " 'Celebrity',\n",
       " 'celebrity',\n",
       " 'China',\n",
       " 'china',\n",
       " 'Christian',\n",
       " 'christian',\n",
       " 'Clinton',\n",
       " 'Hillary',\n",
       " 'Hillary Clinton',\n",
       " 'clinton',\n",
       " 'Democrat',\n",
       " 'Democrats',\n",
       " 'democrat',\n",
       " 'democrats',\n",
       " 'Harris',\n",
       " 'Kamala',\n",
       " 'harris',\n",
       " 'Omicron',\n",
       " 'omicron',\n",
       " 'Pelosi',\n",
       " 'pelosi',\n",
       " 'Protest',\n",
       " 'protest',\n",
       " 'Republican',\n",
       " 'republican',\n",
       " 'republicans',\n",
       " 'Russia',\n",
       " 'rrussia',\n",
       " 'russia',\n",
       " 'Terrorism',\n",
       " 'terrorism',\n",
       " 'transgender',\n",
       " 'Transgender',\n",
       " 'Trump',\n",
       " 'trump',\n",
       " 'Ukarine',\n",
       " 'Ukraine',\n",
       " 'ukraine',\n",
       " 'Vaccine',\n",
       " 'vaccination',\n",
       " 'vaccine',\n",
       " 'White House',\n",
       " 'white house',\n",
       " 'whitehouse',\n",
       " 'White Supremacy',\n",
       " 'white supremacy',\n",
       " 'acting',\n",
       " 'actor',\n",
       " 'actress',\n",
       " 'anitivaxx',\n",
       " 'antivax',\n",
       " 'antivaxx',\n",
       " 'enteratinment',\n",
       " 'entertainment',\n",
       " 'law',\n",
       " 'laws',\n",
       " 'mandate',\n",
       " 'mask',\n",
       " 'mask mandate',\n",
       " 'racism',\n",
       " 'racist',\n",
       " 'religion',\n",
       " 'religon',\n",
       " 'soprts',\n",
       " 'sports',\n",
       " 'supply',\n",
       " 'supply chain']"
      ]
     },
     "execution_count": 160,
     "metadata": {},
     "output_type": "execute_result"
    }
   ],
   "source": [
    "delete_list"
   ]
  },
  {
   "cell_type": "code",
   "execution_count": 161,
   "metadata": {},
   "outputs": [
    {
     "data": {
      "text/plain": [
       "85"
      ]
     },
     "execution_count": 161,
     "metadata": {},
     "output_type": "execute_result"
    }
   ],
   "source": [
    "len(delete_list)"
   ]
  },
  {
   "cell_type": "code",
   "execution_count": 162,
   "metadata": {},
   "outputs": [],
   "source": [
    "df.drop(delete_list, axis=1, inplace=True)"
   ]
  },
  {
   "cell_type": "code",
   "execution_count": 163,
   "metadata": {},
   "outputs": [
    {
     "data": {
      "text/html": [
       "<div>\n",
       "<style scoped>\n",
       "    .dataframe tbody tr th:only-of-type {\n",
       "        vertical-align: middle;\n",
       "    }\n",
       "\n",
       "    .dataframe tbody tr th {\n",
       "        vertical-align: top;\n",
       "    }\n",
       "\n",
       "    .dataframe thead th {\n",
       "        text-align: right;\n",
       "    }\n",
       "</style>\n",
       "<table border=\"1\" class=\"dataframe\">\n",
       "  <thead>\n",
       "    <tr style=\"text-align: right;\">\n",
       "      <th></th>\n",
       "      <th>uid</th>\n",
       "      <th>full_text</th>\n",
       "      <th>911</th>\n",
       "      <th>AIDS</th>\n",
       "      <th>Afghanistan</th>\n",
       "      <th>Anti-Immigrant</th>\n",
       "      <th>Art</th>\n",
       "      <th>BLM</th>\n",
       "      <th>Belarus</th>\n",
       "      <th>Big Tech</th>\n",
       "      <th>...</th>\n",
       "      <th>new_column_white supremacy</th>\n",
       "      <th>new_column_actor and actress</th>\n",
       "      <th>new_column_antivaxx</th>\n",
       "      <th>new_column_entertainment</th>\n",
       "      <th>new_column_law</th>\n",
       "      <th>new_column_mask mandate</th>\n",
       "      <th>new_column_racism</th>\n",
       "      <th>new_column_religion</th>\n",
       "      <th>new_column_sports</th>\n",
       "      <th>new_column_supply</th>\n",
       "    </tr>\n",
       "  </thead>\n",
       "  <tbody>\n",
       "    <tr>\n",
       "      <th>0</th>\n",
       "      <td>1</td>\n",
       "      <td>publication america uncover expose truth happe...</td>\n",
       "      <td>0</td>\n",
       "      <td>0</td>\n",
       "      <td>0</td>\n",
       "      <td>0</td>\n",
       "      <td>0</td>\n",
       "      <td>0</td>\n",
       "      <td>0</td>\n",
       "      <td>0</td>\n",
       "      <td>...</td>\n",
       "      <td>0</td>\n",
       "      <td>0</td>\n",
       "      <td>0</td>\n",
       "      <td>0</td>\n",
       "      <td>0</td>\n",
       "      <td>0</td>\n",
       "      <td>0</td>\n",
       "      <td>0</td>\n",
       "      <td>0</td>\n",
       "      <td>0</td>\n",
       "    </tr>\n",
       "    <tr>\n",
       "      <th>1</th>\n",
       "      <td>3</td>\n",
       "      <td>comrades massive freedom convoy protest canadi...</td>\n",
       "      <td>0</td>\n",
       "      <td>0</td>\n",
       "      <td>0</td>\n",
       "      <td>0</td>\n",
       "      <td>0</td>\n",
       "      <td>0</td>\n",
       "      <td>0</td>\n",
       "      <td>0</td>\n",
       "      <td>...</td>\n",
       "      <td>0</td>\n",
       "      <td>0</td>\n",
       "      <td>0</td>\n",
       "      <td>0</td>\n",
       "      <td>0</td>\n",
       "      <td>0</td>\n",
       "      <td>0</td>\n",
       "      <td>0</td>\n",
       "      <td>0</td>\n",
       "      <td>0</td>\n",
       "    </tr>\n",
       "    <tr>\n",
       "      <th>2</th>\n",
       "      <td>4</td>\n",
       "      <td>popular r anti work sub reddit go private wedn...</td>\n",
       "      <td>0</td>\n",
       "      <td>0</td>\n",
       "      <td>0</td>\n",
       "      <td>0</td>\n",
       "      <td>0</td>\n",
       "      <td>0</td>\n",
       "      <td>0</td>\n",
       "      <td>0</td>\n",
       "      <td>...</td>\n",
       "      <td>0</td>\n",
       "      <td>0</td>\n",
       "      <td>0</td>\n",
       "      <td>0</td>\n",
       "      <td>0</td>\n",
       "      <td>0</td>\n",
       "      <td>0</td>\n",
       "      <td>0</td>\n",
       "      <td>0</td>\n",
       "      <td>0</td>\n",
       "    </tr>\n",
       "    <tr>\n",
       "      <th>3</th>\n",
       "      <td>7</td>\n",
       "      <td>house democratic leader speaker nancy pelosi s...</td>\n",
       "      <td>0</td>\n",
       "      <td>0</td>\n",
       "      <td>0</td>\n",
       "      <td>0</td>\n",
       "      <td>0</td>\n",
       "      <td>0</td>\n",
       "      <td>0</td>\n",
       "      <td>0</td>\n",
       "      <td>...</td>\n",
       "      <td>0</td>\n",
       "      <td>0</td>\n",
       "      <td>0</td>\n",
       "      <td>0</td>\n",
       "      <td>0</td>\n",
       "      <td>0</td>\n",
       "      <td>0</td>\n",
       "      <td>0</td>\n",
       "      <td>0</td>\n",
       "      <td>0</td>\n",
       "    </tr>\n",
       "    <tr>\n",
       "      <th>4</th>\n",
       "      <td>8</td>\n",
       "      <td>white house press secretary jen p saki offer a...</td>\n",
       "      <td>0</td>\n",
       "      <td>0</td>\n",
       "      <td>0</td>\n",
       "      <td>0</td>\n",
       "      <td>0</td>\n",
       "      <td>0</td>\n",
       "      <td>0</td>\n",
       "      <td>0</td>\n",
       "      <td>...</td>\n",
       "      <td>0</td>\n",
       "      <td>0</td>\n",
       "      <td>0</td>\n",
       "      <td>0</td>\n",
       "      <td>0</td>\n",
       "      <td>0</td>\n",
       "      <td>0</td>\n",
       "      <td>0</td>\n",
       "      <td>0</td>\n",
       "      <td>0</td>\n",
       "    </tr>\n",
       "    <tr>\n",
       "      <th>...</th>\n",
       "      <td>...</td>\n",
       "      <td>...</td>\n",
       "      <td>...</td>\n",
       "      <td>...</td>\n",
       "      <td>...</td>\n",
       "      <td>...</td>\n",
       "      <td>...</td>\n",
       "      <td>...</td>\n",
       "      <td>...</td>\n",
       "      <td>...</td>\n",
       "      <td>...</td>\n",
       "      <td>...</td>\n",
       "      <td>...</td>\n",
       "      <td>...</td>\n",
       "      <td>...</td>\n",
       "      <td>...</td>\n",
       "      <td>...</td>\n",
       "      <td>...</td>\n",
       "      <td>...</td>\n",
       "      <td>...</td>\n",
       "      <td>...</td>\n",
       "    </tr>\n",
       "    <tr>\n",
       "      <th>1451</th>\n",
       "      <td>1434</td>\n",
       "      <td>though many wild eye-opening moment president ...</td>\n",
       "      <td>0</td>\n",
       "      <td>0</td>\n",
       "      <td>0</td>\n",
       "      <td>0</td>\n",
       "      <td>0</td>\n",
       "      <td>0</td>\n",
       "      <td>0</td>\n",
       "      <td>0</td>\n",
       "      <td>...</td>\n",
       "      <td>0</td>\n",
       "      <td>0</td>\n",
       "      <td>0</td>\n",
       "      <td>0</td>\n",
       "      <td>0</td>\n",
       "      <td>0</td>\n",
       "      <td>0</td>\n",
       "      <td>0</td>\n",
       "      <td>0</td>\n",
       "      <td>0</td>\n",
       "    </tr>\n",
       "    <tr>\n",
       "      <th>1452</th>\n",
       "      <td>1436</td>\n",
       "      <td>today sen ted cruz r-tx grill executive assist...</td>\n",
       "      <td>0</td>\n",
       "      <td>0</td>\n",
       "      <td>0</td>\n",
       "      <td>0</td>\n",
       "      <td>0</td>\n",
       "      <td>0</td>\n",
       "      <td>0</td>\n",
       "      <td>0</td>\n",
       "      <td>...</td>\n",
       "      <td>0</td>\n",
       "      <td>0</td>\n",
       "      <td>0</td>\n",
       "      <td>0</td>\n",
       "      <td>0</td>\n",
       "      <td>0</td>\n",
       "      <td>0</td>\n",
       "      <td>0</td>\n",
       "      <td>0</td>\n",
       "      <td>0</td>\n",
       "    </tr>\n",
       "    <tr>\n",
       "      <th>1453</th>\n",
       "      <td>1437</td>\n",
       "      <td>posse person travel another country luxury vac...</td>\n",
       "      <td>0</td>\n",
       "      <td>0</td>\n",
       "      <td>0</td>\n",
       "      <td>0</td>\n",
       "      <td>0</td>\n",
       "      <td>0</td>\n",
       "      <td>0</td>\n",
       "      <td>0</td>\n",
       "      <td>...</td>\n",
       "      <td>0</td>\n",
       "      <td>0</td>\n",
       "      <td>0</td>\n",
       "      <td>0</td>\n",
       "      <td>0</td>\n",
       "      <td>0</td>\n",
       "      <td>0</td>\n",
       "      <td>0</td>\n",
       "      <td>0</td>\n",
       "      <td>0</td>\n",
       "    </tr>\n",
       "    <tr>\n",
       "      <th>1454</th>\n",
       "      <td>1439</td>\n",
       "      <td>president donald trump classic form last night...</td>\n",
       "      <td>0</td>\n",
       "      <td>0</td>\n",
       "      <td>0</td>\n",
       "      <td>0</td>\n",
       "      <td>0</td>\n",
       "      <td>0</td>\n",
       "      <td>0</td>\n",
       "      <td>0</td>\n",
       "      <td>...</td>\n",
       "      <td>0</td>\n",
       "      <td>0</td>\n",
       "      <td>0</td>\n",
       "      <td>0</td>\n",
       "      <td>0</td>\n",
       "      <td>0</td>\n",
       "      <td>0</td>\n",
       "      <td>0</td>\n",
       "      <td>0</td>\n",
       "      <td>0</td>\n",
       "    </tr>\n",
       "    <tr>\n",
       "      <th>1455</th>\n",
       "      <td>1439</td>\n",
       "      <td>president donald trump classic form last night...</td>\n",
       "      <td>0</td>\n",
       "      <td>0</td>\n",
       "      <td>0</td>\n",
       "      <td>0</td>\n",
       "      <td>0</td>\n",
       "      <td>0</td>\n",
       "      <td>0</td>\n",
       "      <td>0</td>\n",
       "      <td>...</td>\n",
       "      <td>0</td>\n",
       "      <td>0</td>\n",
       "      <td>0</td>\n",
       "      <td>0</td>\n",
       "      <td>0</td>\n",
       "      <td>0</td>\n",
       "      <td>0</td>\n",
       "      <td>0</td>\n",
       "      <td>0</td>\n",
       "      <td>0</td>\n",
       "    </tr>\n",
       "  </tbody>\n",
       "</table>\n",
       "<p>1456 rows × 203 columns</p>\n",
       "</div>"
      ],
      "text/plain": [
       "       uid                                          full_text  911  AIDS  \\\n",
       "0        1  publication america uncover expose truth happe...    0     0   \n",
       "1        3  comrades massive freedom convoy protest canadi...    0     0   \n",
       "2        4  popular r anti work sub reddit go private wedn...    0     0   \n",
       "3        7  house democratic leader speaker nancy pelosi s...    0     0   \n",
       "4        8  white house press secretary jen p saki offer a...    0     0   \n",
       "...    ...                                                ...  ...   ...   \n",
       "1451  1434  though many wild eye-opening moment president ...    0     0   \n",
       "1452  1436  today sen ted cruz r-tx grill executive assist...    0     0   \n",
       "1453  1437  posse person travel another country luxury vac...    0     0   \n",
       "1454  1439  president donald trump classic form last night...    0     0   \n",
       "1455  1439  president donald trump classic form last night...    0     0   \n",
       "\n",
       "      Afghanistan  Anti-Immigrant  Art  BLM  Belarus  Big Tech  ...  \\\n",
       "0               0               0    0    0        0         0  ...   \n",
       "1               0               0    0    0        0         0  ...   \n",
       "2               0               0    0    0        0         0  ...   \n",
       "3               0               0    0    0        0         0  ...   \n",
       "4               0               0    0    0        0         0  ...   \n",
       "...           ...             ...  ...  ...      ...       ...  ...   \n",
       "1451            0               0    0    0        0         0  ...   \n",
       "1452            0               0    0    0        0         0  ...   \n",
       "1453            0               0    0    0        0         0  ...   \n",
       "1454            0               0    0    0        0         0  ...   \n",
       "1455            0               0    0    0        0         0  ...   \n",
       "\n",
       "      new_column_white supremacy  new_column_actor and actress  \\\n",
       "0                              0                             0   \n",
       "1                              0                             0   \n",
       "2                              0                             0   \n",
       "3                              0                             0   \n",
       "4                              0                             0   \n",
       "...                          ...                           ...   \n",
       "1451                           0                             0   \n",
       "1452                           0                             0   \n",
       "1453                           0                             0   \n",
       "1454                           0                             0   \n",
       "1455                           0                             0   \n",
       "\n",
       "      new_column_antivaxx  new_column_entertainment  new_column_law  \\\n",
       "0                       0                         0               0   \n",
       "1                       0                         0               0   \n",
       "2                       0                         0               0   \n",
       "3                       0                         0               0   \n",
       "4                       0                         0               0   \n",
       "...                   ...                       ...             ...   \n",
       "1451                    0                         0               0   \n",
       "1452                    0                         0               0   \n",
       "1453                    0                         0               0   \n",
       "1454                    0                         0               0   \n",
       "1455                    0                         0               0   \n",
       "\n",
       "      new_column_mask mandate  new_column_racism  new_column_religion  \\\n",
       "0                           0                  0                    0   \n",
       "1                           0                  0                    0   \n",
       "2                           0                  0                    0   \n",
       "3                           0                  0                    0   \n",
       "4                           0                  0                    0   \n",
       "...                       ...                ...                  ...   \n",
       "1451                        0                  0                    0   \n",
       "1452                        0                  0                    0   \n",
       "1453                        0                  0                    0   \n",
       "1454                        0                  0                    0   \n",
       "1455                        0                  0                    0   \n",
       "\n",
       "      new_column_sports  new_column_supply  \n",
       "0                     0                  0  \n",
       "1                     0                  0  \n",
       "2                     0                  0  \n",
       "3                     0                  0  \n",
       "4                     0                  0  \n",
       "...                 ...                ...  \n",
       "1451                  0                  0  \n",
       "1452                  0                  0  \n",
       "1453                  0                  0  \n",
       "1454                  0                  0  \n",
       "1455                  0                  0  \n",
       "\n",
       "[1456 rows x 203 columns]"
      ]
     },
     "execution_count": 163,
     "metadata": {},
     "output_type": "execute_result"
    }
   ],
   "source": [
    "df"
   ]
  },
  {
   "cell_type": "code",
   "execution_count": 164,
   "metadata": {},
   "outputs": [],
   "source": [
    "df.columns = df.columns.str.replace('new_column_', '')"
   ]
  },
  {
   "cell_type": "code",
   "execution_count": 165,
   "metadata": {},
   "outputs": [],
   "source": [
    "sorted_columns = df.iloc[:,2:].sort_index(axis=1,ascending=True)"
   ]
  },
  {
   "cell_type": "code",
   "execution_count": 166,
   "metadata": {},
   "outputs": [],
   "source": [
    "final = df.iloc[:,:2].join(sorted_columns)"
   ]
  },
  {
   "cell_type": "code",
   "execution_count": 167,
   "metadata": {},
   "outputs": [],
   "source": [
    "final.to_csv('./inference/manual_label_final.csv', index=False)"
   ]
  },
  {
   "cell_type": "code",
   "execution_count": 168,
   "metadata": {},
   "outputs": [],
   "source": [
    "final_col = pd.DataFrame(final.columns, columns=['label'])"
   ]
  },
  {
   "cell_type": "code",
   "execution_count": 169,
   "metadata": {},
   "outputs": [],
   "source": [
    "final_col.to_csv('./inference/column_names_final.csv', index=False)"
   ]
  },
  {
   "cell_type": "code",
   "execution_count": null,
   "metadata": {},
   "outputs": [],
   "source": []
  },
  {
   "cell_type": "code",
   "execution_count": null,
   "metadata": {},
   "outputs": [],
   "source": []
  }
 ],
 "metadata": {
  "kernelspec": {
   "display_name": "Python 3",
   "language": "python",
   "name": "python3"
  },
  "language_info": {
   "codemirror_mode": {
    "name": "ipython",
    "version": 3
   },
   "file_extension": ".py",
   "mimetype": "text/x-python",
   "name": "python",
   "nbconvert_exporter": "python",
   "pygments_lexer": "ipython3",
   "version": "3.8.5"
  }
 },
 "nbformat": 4,
 "nbformat_minor": 4
}
