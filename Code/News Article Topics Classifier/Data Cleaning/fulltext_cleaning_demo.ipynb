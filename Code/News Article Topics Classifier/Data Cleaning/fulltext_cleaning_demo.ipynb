{
 "cells": [
  {
   "cell_type": "code",
   "execution_count": 194,
   "metadata": {},
   "outputs": [
    {
     "name": "stderr",
     "output_type": "stream",
     "text": [
      "[nltk_data] Downloading package stopwords to\n",
      "[nltk_data]     /Users/summerai/nltk_data...\n",
      "[nltk_data]   Unzipping corpora/stopwords.zip.\n"
     ]
    },
    {
     "data": {
      "text/plain": [
       "True"
      ]
     },
     "execution_count": 194,
     "metadata": {},
     "output_type": "execute_result"
    }
   ],
   "source": [
    "import pandas as pd\n",
    "import wordninja\n",
    "import re\n",
    "import nltk\n",
    "from nltk.corpus import wordnet\n",
    "from nltk.stem import WordNetLemmatizer \n",
    "from nltk.corpus import stopwords\n",
    "nltk.download('averaged_perceptron_tagger')\n",
    "nltk.download('punkt')\n",
    "nltk.download('stopwords')"
   ]
  },
  {
   "cell_type": "code",
   "execution_count": 210,
   "metadata": {},
   "outputs": [],
   "source": [
    "data = pd.read_csv('fulltext_cleaned_0122.csv')"
   ]
  },
  {
   "cell_type": "code",
   "execution_count": 211,
   "metadata": {},
   "outputs": [
    {
     "data": {
      "text/html": [
       "<div>\n",
       "<style scoped>\n",
       "    .dataframe tbody tr th:only-of-type {\n",
       "        vertical-align: middle;\n",
       "    }\n",
       "\n",
       "    .dataframe tbody tr th {\n",
       "        vertical-align: top;\n",
       "    }\n",
       "\n",
       "    .dataframe thead th {\n",
       "        text-align: right;\n",
       "    }\n",
       "</style>\n",
       "<table border=\"1\" class=\"dataframe\">\n",
       "  <thead>\n",
       "    <tr style=\"text-align: right;\">\n",
       "      <th></th>\n",
       "      <th>Index_Unknown</th>\n",
       "      <th>uid</th>\n",
       "      <th>url</th>\n",
       "      <th>keywords</th>\n",
       "      <th>full_text</th>\n",
       "      <th>classifiers</th>\n",
       "    </tr>\n",
       "  </thead>\n",
       "  <tbody>\n",
       "    <tr>\n",
       "      <th>0</th>\n",
       "      <td>5</td>\n",
       "      <td>380117</td>\n",
       "      <td>https://www.westernjournal.com/trump-right-jud...</td>\n",
       "      <td>coronavirus|covid|qanon|biden|voterfraud|antii...</td>\n",
       "      <td>Michigan Secretary of State Jocelyn Benson, pi...</td>\n",
       "      <td>voterfraud</td>\n",
       "    </tr>\n",
       "    <tr>\n",
       "      <th>1</th>\n",
       "      <td>13</td>\n",
       "      <td>448712</td>\n",
       "      <td>https://pjmedia.com/news-and-politics/victoria...</td>\n",
       "      <td>antilatinx|whitesupremacy|antiblack</td>\n",
       "      <td>Joe Hall is a former Marine and handyman, who ...</td>\n",
       "      <td>whitesupremacy</td>\n",
       "    </tr>\n",
       "    <tr>\n",
       "      <th>2</th>\n",
       "      <td>15</td>\n",
       "      <td>256646</td>\n",
       "      <td>https://www.breitbart.com/politics/2020/12/23/...</td>\n",
       "      <td>biden|antilatinx|antiimmigrant|coronavirus</td>\n",
       "      <td>PoliticsEntertainmentMediaEconomyWorldLondo...</td>\n",
       "      <td>antilatinx</td>\n",
       "    </tr>\n",
       "    <tr>\n",
       "      <th>3</th>\n",
       "      <td>15</td>\n",
       "      <td>256646</td>\n",
       "      <td>https://www.breitbart.com/politics/2020/12/23/...</td>\n",
       "      <td>biden|antilatinx|antiimmigrant|coronavirus</td>\n",
       "      <td>PoliticsEntertainmentMediaEconomyWorldLondo...</td>\n",
       "      <td>biden</td>\n",
       "    </tr>\n",
       "    <tr>\n",
       "      <th>4</th>\n",
       "      <td>21</td>\n",
       "      <td>406930</td>\n",
       "      <td>https://www.theepochtimes.com/supreme-court-ju...</td>\n",
       "      <td>bigtech|qanon|qanon</td>\n",
       "      <td>Thomas, considered a conservative on the high ...</td>\n",
       "      <td>bigtech</td>\n",
       "    </tr>\n",
       "    <tr>\n",
       "      <th>...</th>\n",
       "      <td>...</td>\n",
       "      <td>...</td>\n",
       "      <td>...</td>\n",
       "      <td>...</td>\n",
       "      <td>...</td>\n",
       "      <td>...</td>\n",
       "    </tr>\n",
       "    <tr>\n",
       "      <th>119919</th>\n",
       "      <td>911692</td>\n",
       "      <td>911560</td>\n",
       "      <td>https://hannity.com/media-room/not-so-fast-ari...</td>\n",
       "      <td>qanon|biden|voterfraud|biden|biden|qanon|biden...</td>\n",
       "      <td>NaN</td>\n",
       "      <td>presidentbiden</td>\n",
       "    </tr>\n",
       "    <tr>\n",
       "      <th>119920</th>\n",
       "      <td>911739</td>\n",
       "      <td>911656</td>\n",
       "      <td>https://www.nytimes.com/2021/03/26/opinion/ezr...</td>\n",
       "      <td>coronavirus|disinformation|whitesupremacy|anti...</td>\n",
       "      <td>SectionsSEARCHSkip to contentSkip to site inde...</td>\n",
       "      <td>coronavirus</td>\n",
       "    </tr>\n",
       "    <tr>\n",
       "      <th>119921</th>\n",
       "      <td>911739</td>\n",
       "      <td>911656</td>\n",
       "      <td>https://www.nytimes.com/2021/03/26/opinion/ezr...</td>\n",
       "      <td>coronavirus|disinformation|whitesupremacy|anti...</td>\n",
       "      <td>SectionsSEARCHSkip to contentSkip to site inde...</td>\n",
       "      <td>bigtech</td>\n",
       "    </tr>\n",
       "    <tr>\n",
       "      <th>119922</th>\n",
       "      <td>911789</td>\n",
       "      <td>911757</td>\n",
       "      <td>https://www.theguardian.com/us-news/2021/apr/0...</td>\n",
       "      <td>coronavirus|covid|antiblack|qanon|whitesuprema...</td>\n",
       "      <td>Skip to main contentSkip to navigationAdvertis...</td>\n",
       "      <td>whitesupremacy</td>\n",
       "    </tr>\n",
       "    <tr>\n",
       "      <th>119923</th>\n",
       "      <td>911807</td>\n",
       "      <td>911797</td>\n",
       "      <td>https://www.newsweek.com/2024-pence-can-he-mak...</td>\n",
       "      <td>coronavirus|qanon|covid|biden|voterfraud|antii...</td>\n",
       "      <td>NaN</td>\n",
       "      <td>voterfraud</td>\n",
       "    </tr>\n",
       "  </tbody>\n",
       "</table>\n",
       "<p>119924 rows × 6 columns</p>\n",
       "</div>"
      ],
      "text/plain": [
       "        Index_Unknown     uid  \\\n",
       "0                   5  380117   \n",
       "1                  13  448712   \n",
       "2                  15  256646   \n",
       "3                  15  256646   \n",
       "4                  21  406930   \n",
       "...               ...     ...   \n",
       "119919         911692  911560   \n",
       "119920         911739  911656   \n",
       "119921         911739  911656   \n",
       "119922         911789  911757   \n",
       "119923         911807  911797   \n",
       "\n",
       "                                                      url  \\\n",
       "0       https://www.westernjournal.com/trump-right-jud...   \n",
       "1       https://pjmedia.com/news-and-politics/victoria...   \n",
       "2       https://www.breitbart.com/politics/2020/12/23/...   \n",
       "3       https://www.breitbart.com/politics/2020/12/23/...   \n",
       "4       https://www.theepochtimes.com/supreme-court-ju...   \n",
       "...                                                   ...   \n",
       "119919  https://hannity.com/media-room/not-so-fast-ari...   \n",
       "119920  https://www.nytimes.com/2021/03/26/opinion/ezr...   \n",
       "119921  https://www.nytimes.com/2021/03/26/opinion/ezr...   \n",
       "119922  https://www.theguardian.com/us-news/2021/apr/0...   \n",
       "119923  https://www.newsweek.com/2024-pence-can-he-mak...   \n",
       "\n",
       "                                                 keywords  \\\n",
       "0       coronavirus|covid|qanon|biden|voterfraud|antii...   \n",
       "1                     antilatinx|whitesupremacy|antiblack   \n",
       "2              biden|antilatinx|antiimmigrant|coronavirus   \n",
       "3              biden|antilatinx|antiimmigrant|coronavirus   \n",
       "4                                     bigtech|qanon|qanon   \n",
       "...                                                   ...   \n",
       "119919  qanon|biden|voterfraud|biden|biden|qanon|biden...   \n",
       "119920  coronavirus|disinformation|whitesupremacy|anti...   \n",
       "119921  coronavirus|disinformation|whitesupremacy|anti...   \n",
       "119922  coronavirus|covid|antiblack|qanon|whitesuprema...   \n",
       "119923  coronavirus|qanon|covid|biden|voterfraud|antii...   \n",
       "\n",
       "                                                full_text     classifiers  \n",
       "0       Michigan Secretary of State Jocelyn Benson, pi...      voterfraud  \n",
       "1       Joe Hall is a former Marine and handyman, who ...  whitesupremacy  \n",
       "2          PoliticsEntertainmentMediaEconomyWorldLondo...      antilatinx  \n",
       "3          PoliticsEntertainmentMediaEconomyWorldLondo...           biden  \n",
       "4       Thomas, considered a conservative on the high ...         bigtech  \n",
       "...                                                   ...             ...  \n",
       "119919                                                NaN  presidentbiden  \n",
       "119920  SectionsSEARCHSkip to contentSkip to site inde...     coronavirus  \n",
       "119921  SectionsSEARCHSkip to contentSkip to site inde...         bigtech  \n",
       "119922  Skip to main contentSkip to navigationAdvertis...  whitesupremacy  \n",
       "119923                                                NaN      voterfraud  \n",
       "\n",
       "[119924 rows x 6 columns]"
      ]
     },
     "execution_count": 211,
     "metadata": {},
     "output_type": "execute_result"
    }
   ],
   "source": [
    "data "
   ]
  },
  {
   "cell_type": "markdown",
   "metadata": {},
   "source": [
    "### Assumption\n",
    "<br> 1. Irrelevant text for categories and sublinks are removed\n",
    "<br> 2. Links in the text are removed, hence words like jpg doesn't appear unless it is part of the article\n",
    "<br> 3. White space is approperiate reserved between each two sentences. Eg. no case like sentence1.sentence2"
   ]
  },
  {
   "cell_type": "markdown",
   "metadata": {},
   "source": [
    "### Solution\n",
    "<br> 0. remove null\n",
    "<br> 1. get rid of all special characters; replace them with white space, delete >1 white space\n",
    "<br> 2. use wordninja; consider cases that do not pass to wordninja split eg. n95\n",
    "<br> 3. lemmatize\n",
    "<br> 4. covert all full text to lower case\n",
    "<br> 5. clean stop words"
   ]
  },
  {
   "cell_type": "code",
   "execution_count": 212,
   "metadata": {},
   "outputs": [],
   "source": [
    "# step 0\n",
    "data = data[data['full_text'].notnull()].reset_index(drop=True)"
   ]
  },
  {
   "cell_type": "markdown",
   "metadata": {},
   "source": [
    "### Demo\n",
    "This demo shows how each step affects a single article"
   ]
  },
  {
   "cell_type": "code",
   "execution_count": 262,
   "metadata": {},
   "outputs": [
    {
     "data": {
      "text/plain": [
       "'   PoliticsEntertainmentMediaEconomyWorldLondon / EuropeBorder / Cartel ChroniclesIsrael / Middle EastAfricaAsiaLatin AmericaAll WorldVideoTechSportsOn the HillOn the Hill ArticlesOn The Hill Exclusive VideoWiresB Inspired    BREITBART    PoliticsEntertainmentMediaEconomyWorldLondon / EuropeBorder / Cartel ChroniclesIsrael / Middle EastAfricaAsiaLatin AmericaWorld NewsVideoTechSportsOn the HillOn the Hill ArticlesOn The Hill Exclusive VideoWiresPodcastsBreitbart News DailyB InspiredAbout UsPeopleNewsletters  As Biden suggestedhe is satisfied with Congress allocating just $600 stimulus checks for each American out of a $900 billion coronavirus relief package, his advisers said he will push to fund better housing and coronavirus tests for foreign nationals in Mexico.Biden said, Congress did its job this week in reference to the Democrat-controlled House and Republican-controlled Senate passing the package. President Trump, on the other hand, has demandedthe package be reworked to include $2,000 stimulus checks for each American.On a call with reporters this week, Biden transition team officials said, they plan on providing funding to improve shelter and humanitarian assistance to immigrants waiting in northern Mexico, as well as provide COVID-19 testing to ensure people presenting at POE have a negative test before being processed, according to a Buzzfeed News report.Apparently the Biden administration plans to offer shelter and assistance to visa-less migrants even before they try to cross the border, including COVID testing.  As Howie Carr would say, \"I just want to be treated like an illegal alien.\" https://t.co/prrKQBP41aMOST POPULARManchin: Voter Obstruction Is \\'Not Going to Happen\\'White House Pursuing Joe Biden Reboot as Polls CollapseKari Lake: Once Elected I\\'ll Declare \\'Invasion\\' and Close BorderTexas Army National Guardsman Fires Upon Smugglers VehicleOregon Officials Float Making Indoor Mask Mandate PermanentCNN Op-Ed Claims everyone Excited by Prospect of Hillarys ComebackAs U.S. Athletes Face Mounting Dangers in Beijing, Blinken Is in KyivBidens Test Website Prevents Apartment Residents from Placing OrdersReport Undermines NPR\\'s SCOTUS Mask Drama StoryMark Kelly Backs Breaking Filibuster to Pass Voting Rights Reform FROM THE HOMEPAGEPoll: Joe Biden Approval Rating Hits Record Low as He Reaches One Year as PresidentNolte: Joe Bidens Job Approval Falls to Record Low in RCP Poll AveragePoll: Majority Believe Joe Biden Incapable of Leading the CountryEstablishment Reporters Say They Will Ask Joe Biden Serious Questions at Year-One Presser After Softball CampaignBreitbart News Daily Podcast Ep. 54: Dem Infighting and Failure Presents the GOP an Opportunity; Guest: Rep. Michael WaltzPoll: GOP Leads Democrats by Double Digits on Economy, National Security,JobsNolte: NPR Story About Neil Gorsuch Refusing to Wear Mask Debunked as Fake NewsBiden Administration to Distribute 400 Million N95 MasksRepublicans in Congress Praise Parent Revolution Fighting Back Against School MandatesVP Kamala Harris Claims Attending Honduran President Inauguration Will Deter Illegal ImmigrationKari Lake: As Governor Ill Issue a Declaration of Invasion and Close the BorderTexas Army National Guardsman Fires Upon Smugglers Vehicle near BorderNolte: Texas Rabbis Account of Hostage Escape Contradicts FBI Spin  '"
      ]
     },
     "execution_count": 262,
     "metadata": {},
     "output_type": "execute_result"
    }
   ],
   "source": [
    "example = data.iloc[2,-2]\n",
    "example"
   ]
  },
  {
   "cell_type": "code",
   "execution_count": 263,
   "metadata": {},
   "outputs": [],
   "source": [
    "# step 1\n",
    "\n",
    "# repalce all characters with a white space \n",
    "# except - between letters and (, or .) between digits or letters; \n",
    "# Eg. keep COVID-19, one-year, 2,000, 3.00 and U.S\n",
    "step1_remove_char = re.sub(r\"(?!(?<=[a-zA-Z0-9])[\\,\\.\\-](?=[a-zA-Z0-9]))[^a-zA-Z0-9 \\n]\",\" \", example + '3.00, 5g')\n",
    "# if there are more than one white spaces between words, reduce to one\n",
    "step1_remove_spaces = re.sub('\\s+', \" \", step1_remove_char).strip()"
   ]
  },
  {
   "cell_type": "code",
   "execution_count": 264,
   "metadata": {},
   "outputs": [
    {
     "data": {
      "text/plain": [
       "'   PoliticsEntertainmentMediaEconomyWorldLondon   EuropeBorder   Cartel ChroniclesIsrael   Middle EastAfricaAsiaLatin AmericaAll WorldVideoTechSportsOn the HillOn the Hill ArticlesOn The Hill Exclusive VideoWiresB Inspired    BREITBART    PoliticsEntertainmentMediaEconomyWorldLondon   EuropeBorder   Cartel ChroniclesIsrael   Middle EastAfricaAsiaLatin AmericaWorld NewsVideoTechSportsOn the HillOn the Hill ArticlesOn The Hill Exclusive VideoWiresPodcastsBreitbart News DailyB InspiredAbout UsPeopleNewsletters  As Biden suggestedhe is satisfied with Congress allocating just  600 stimulus checks for each American out of a  900 billion coronavirus relief package  his advisers said he will push to fund better housing and coronavirus tests for foreign nationals in Mexico.Biden said  Congress did its job this week in reference to the Democrat-controlled House and Republican-controlled Senate passing the package  President Trump  on the other hand  has demandedthe package be reworked to include  2,000 stimulus checks for each American.On a call with reporters this week  Biden transition team officials said  they plan on providing funding to improve shelter and humanitarian assistance to immigrants waiting in northern Mexico  as well as provide COVID-19 testing to ensure people presenting at POE have a negative test before being processed  according to a Buzzfeed News report.Apparently the Biden administration plans to offer shelter and assistance to visa-less migrants even before they try to cross the border  including COVID testing   As Howie Carr would say   I just want to be treated like an illegal alien   https   t.co prrKQBP41aMOST POPULARManchin  Voter Obstruction Is  Not Going to Happen White House Pursuing Joe Biden Reboot as Polls CollapseKari Lake  Once Elected I ll Declare  Invasion  and Close BorderTexas Army National Guardsman Fires Upon Smugglers VehicleOregon Officials Float Making Indoor Mask Mandate PermanentCNN Op-Ed Claims everyone Excited by Prospect of Hillarys ComebackAs U.S  Athletes Face Mounting Dangers in Beijing  Blinken Is in KyivBidens Test Website Prevents Apartment Residents from Placing OrdersReport Undermines NPR s SCOTUS Mask Drama StoryMark Kelly Backs Breaking Filibuster to Pass Voting Rights Reform FROM THE HOMEPAGEPoll  Joe Biden Approval Rating Hits Record Low as He Reaches One Year as PresidentNolte  Joe Bidens Job Approval Falls to Record Low in RCP Poll AveragePoll  Majority Believe Joe Biden Incapable of Leading the CountryEstablishment Reporters Say They Will Ask Joe Biden Serious Questions at Year-One Presser After Softball CampaignBreitbart News Daily Podcast Ep  54  Dem Infighting and Failure Presents the GOP an Opportunity  Guest  Rep  Michael WaltzPoll  GOP Leads Democrats by Double Digits on Economy  National Security,JobsNolte  NPR Story About Neil Gorsuch Refusing to Wear Mask Debunked as Fake NewsBiden Administration to Distribute 400 Million N95 MasksRepublicans in Congress Praise Parent Revolution Fighting Back Against School MandatesVP Kamala Harris Claims Attending Honduran President Inauguration Will Deter Illegal ImmigrationKari Lake  As Governor Ill Issue a Declaration of Invasion and Close the BorderTexas Army National Guardsman Fires Upon Smugglers Vehicle near BorderNolte  Texas Rabbis Account of Hostage Escape Contradicts FBI Spin  3.00  5g'"
      ]
     },
     "execution_count": 264,
     "metadata": {},
     "output_type": "execute_result"
    }
   ],
   "source": [
    "step1_remove_char"
   ]
  },
  {
   "cell_type": "code",
   "execution_count": 265,
   "metadata": {},
   "outputs": [
    {
     "data": {
      "text/plain": [
       "'PoliticsEntertainmentMediaEconomyWorldLondon EuropeBorder Cartel ChroniclesIsrael Middle EastAfricaAsiaLatin AmericaAll WorldVideoTechSportsOn the HillOn the Hill ArticlesOn The Hill Exclusive VideoWiresB Inspired BREITBART PoliticsEntertainmentMediaEconomyWorldLondon EuropeBorder Cartel ChroniclesIsrael Middle EastAfricaAsiaLatin AmericaWorld NewsVideoTechSportsOn the HillOn the Hill ArticlesOn The Hill Exclusive VideoWiresPodcastsBreitbart News DailyB InspiredAbout UsPeopleNewsletters As Biden suggestedhe is satisfied with Congress allocating just 600 stimulus checks for each American out of a 900 billion coronavirus relief package his advisers said he will push to fund better housing and coronavirus tests for foreign nationals in Mexico.Biden said Congress did its job this week in reference to the Democrat-controlled House and Republican-controlled Senate passing the package President Trump on the other hand has demandedthe package be reworked to include 2,000 stimulus checks for each American.On a call with reporters this week Biden transition team officials said they plan on providing funding to improve shelter and humanitarian assistance to immigrants waiting in northern Mexico as well as provide COVID-19 testing to ensure people presenting at POE have a negative test before being processed according to a Buzzfeed News report.Apparently the Biden administration plans to offer shelter and assistance to visa-less migrants even before they try to cross the border including COVID testing As Howie Carr would say I just want to be treated like an illegal alien https t.co prrKQBP41aMOST POPULARManchin Voter Obstruction Is Not Going to Happen White House Pursuing Joe Biden Reboot as Polls CollapseKari Lake Once Elected I ll Declare Invasion and Close BorderTexas Army National Guardsman Fires Upon Smugglers VehicleOregon Officials Float Making Indoor Mask Mandate PermanentCNN Op-Ed Claims everyone Excited by Prospect of Hillarys ComebackAs U.S Athletes Face Mounting Dangers in Beijing Blinken Is in KyivBidens Test Website Prevents Apartment Residents from Placing OrdersReport Undermines NPR s SCOTUS Mask Drama StoryMark Kelly Backs Breaking Filibuster to Pass Voting Rights Reform FROM THE HOMEPAGEPoll Joe Biden Approval Rating Hits Record Low as He Reaches One Year as PresidentNolte Joe Bidens Job Approval Falls to Record Low in RCP Poll AveragePoll Majority Believe Joe Biden Incapable of Leading the CountryEstablishment Reporters Say They Will Ask Joe Biden Serious Questions at Year-One Presser After Softball CampaignBreitbart News Daily Podcast Ep 54 Dem Infighting and Failure Presents the GOP an Opportunity Guest Rep Michael WaltzPoll GOP Leads Democrats by Double Digits on Economy National Security,JobsNolte NPR Story About Neil Gorsuch Refusing to Wear Mask Debunked as Fake NewsBiden Administration to Distribute 400 Million N95 MasksRepublicans in Congress Praise Parent Revolution Fighting Back Against School MandatesVP Kamala Harris Claims Attending Honduran President Inauguration Will Deter Illegal ImmigrationKari Lake As Governor Ill Issue a Declaration of Invasion and Close the BorderTexas Army National Guardsman Fires Upon Smugglers Vehicle near BorderNolte Texas Rabbis Account of Hostage Escape Contradicts FBI Spin 3.00 5g'"
      ]
     },
     "execution_count": 265,
     "metadata": {},
     "output_type": "execute_result"
    }
   ],
   "source": [
    "step1_remove_spaces"
   ]
  },
  {
   "cell_type": "code",
   "execution_count": 266,
   "metadata": {},
   "outputs": [],
   "source": [
    "# step 2\n",
    "\n",
    "# if a word matches this pattern or is in the list then we don't want to pass it to wordninja\n",
    "# if there is hyphen, combination of letters and digits and pure capitalized letters, don't pass\n",
    "wordninja_filter = re.compile(r\"-|([A-Za-z]+\\d+\\w*|\\d+[A-Za-z]+\\w*)|^[^a-z]*$\")\n",
    "# if a word is in the list, don't pass it to wordninja because it can't handle well\n",
    "words_pass = ['qanon', 'covid', 'vaxx']\n",
    "\n",
    "# split the string by a white space\n",
    "string_isolated = step1_remove_spaces.split()\n",
    "\n",
    "# check word by word to detect split\n",
    "step2_words_split = ''\n",
    "for el in string_isolated:\n",
    "    # if the word matches the pattern or is in the list, then we don't pass it to wordnijia to split\n",
    "    if wordninja_filter.search(el) or el.lower() in words_pass:\n",
    "        temp = el\n",
    "    # all the other words will be checked if be split if necessary\n",
    "    else:\n",
    "        temp = ' '.join(wordninja.split(el))\n",
    "    step2_words_split += ' ' + temp\n",
    "    step2_words_split = step2_words_split.strip()"
   ]
  },
  {
   "cell_type": "code",
   "execution_count": 268,
   "metadata": {},
   "outputs": [
    {
     "data": {
      "text/plain": [
       "'Politics Entertainment Media Economy World London Europe Border Cartel Chronicles Israel Middle East Africa Asia Latin America All World Video Tech Sports On the Hill On the Hill Articles On The Hill Exclusive Video Wires B Inspired BREITBART Politics Entertainment Media Economy World London Europe Border Cartel Chronicles Israel Middle East Africa Asia Latin America World News Video Tech Sports On the Hill On the Hill Articles On The Hill Exclusive Video Wires Podcasts Bre it bart News Daily B Inspired About Us People Newsletters As Biden suggested he is satisfied with Congress allocating just 600 stimulus checks for each American out of a 900 billion coronavirus relief package his advisers said he will push to fund better housing and coronavirus tests for foreign nationals in Mexico Biden said Congress did its job this week in reference to the Democrat-controlled House and Republican-controlled Senate passing the package President Trump on the other hand has demanded the package be reworked to include 2,000 stimulus checks for each American On a call with reporters this week Biden transition team officials said they plan on providing funding to improve shelter and humanitarian assistance to immigrants waiting in northern Mexico as well as provide COVID-19 testing to ensure people presenting at POE have a negative test before being processed according to a Buzz feed News report Apparently the Biden administration plans to offer shelter and assistance to visa-less migrants even before they try to cross the border including COVID testing As Howie Carr would say I just want to be treated like an illegal alien https t co prrKQBP41aMOST POPULAR Manchin Voter Obstruction Is Not Going to Happen White House Pursuing Joe Biden Reboot as Polls Collapse Kari Lake Once Elected I ll Declare Invasion and Close Border Texas Army National Guardsman Fires Upon Smugglers Vehicle Oregon Officials Float Making Indoor Mask Mandate Permanent CNN Op-Ed Claims everyone Excited by Prospect of Hillary s Comeback As U.S Athletes Face Mounting Dangers in Beijing Blink en Is in Kyiv Biden s Test Website Prevents Apartment Residents from Placing Orders Report Undermines NPR s SCOTUS Mask Drama Story Mark Kelly Backs Breaking Filibuster to Pass Voting Rights Reform FROM THE HOMEPAGE Poll Joe Biden Approval Rating Hits Record Low as He Reaches One Year as President Nolte Joe Biden s Job Approval Falls to Record Low in RCP Poll Average Poll Majority Believe Joe Biden Incapable of Leading the Country Establishment Reporters Say They Will Ask Joe Biden Serious Questions at Year-One Presser After Softball Campaign Bre it bart News Daily Podcast Ep 54 Dem In fighting and Failure Presents the GOP an Opportunity Guest Rep Michael Waltz Poll GOP Leads Democrats by Double Digits on Economy National Security Jobs Nolte NPR Story About Neil Gor such Refusing to Wear Mask Debunked as Fake News Biden Administration to Distribute 400 Million N95 Masks Republicans in Congress Praise Parent Revolution Fighting Back Against School Mandates VP Kamala Harris Claims Attending Honduran President Inauguration Will Deter Illegal Immigration Kari Lake As Governor Ill Issue a Declaration of Invasion and Close the Border Texas Army National Guardsman Fires Upon Smugglers Vehicle near Border Nolte Texas Rabbis Account of Hostage Escape Contradicts FBI Spin 3.00 5g'"
      ]
     },
     "execution_count": 268,
     "metadata": {},
     "output_type": "execute_result"
    }
   ],
   "source": [
    "step2_words_split"
   ]
  },
  {
   "cell_type": "code",
   "execution_count": 269,
   "metadata": {},
   "outputs": [],
   "source": [
    "# step 3\n",
    "def step3_get_wordnet_pos(word):\n",
    "    \"\"\"Map POS tag to first character lemmatize() accepts\"\"\"\n",
    "    tag = nltk.pos_tag([word])[0][1][0].upper()\n",
    "    tag_dict = {\"J\": wordnet.ADJ,\n",
    "                \"N\": wordnet.NOUN,\n",
    "                \"V\": wordnet.VERB,\n",
    "                \"R\": wordnet.ADV}\n",
    "    return tag_dict.get(tag, wordnet.NOUN)\n",
    "\n",
    "step3_lemmatizer = WordNetLemmatizer()"
   ]
  },
  {
   "cell_type": "code",
   "execution_count": 270,
   "metadata": {},
   "outputs": [],
   "source": [
    "temp_2 = ''\n",
    "for word in step2_words_split.split():\n",
    "    words_lemmatized = step3_lemmatizer.lemmatize(word, step3_get_wordnet_pos(word))\n",
    "    temp_2 += ' ' + words_lemmatized"
   ]
  },
  {
   "cell_type": "code",
   "execution_count": 271,
   "metadata": {},
   "outputs": [
    {
     "data": {
      "text/plain": [
       "' Politics Entertainment Media Economy World London Europe Border Cartel Chronicles Israel Middle East Africa Asia Latin America All World Video Tech Sports On the Hill On the Hill Articles On The Hill Exclusive Video Wires B Inspired BREITBART Politics Entertainment Media Economy World London Europe Border Cartel Chronicles Israel Middle East Africa Asia Latin America World News Video Tech Sports On the Hill On the Hill Articles On The Hill Exclusive Video Wires Podcasts Bre it bart News Daily B Inspired About Us People Newsletters As Biden suggest he be satisfied with Congress allocate just 600 stimulus check for each American out of a 900 billion coronavirus relief package his adviser say he will push to fund well housing and coronavirus test for foreign national in Mexico Biden say Congress do it job this week in reference to the Democrat-controlled House and Republican-controlled Senate passing the package President Trump on the other hand have demand the package be rework to include 2,000 stimulus check for each American On a call with reporter this week Biden transition team official say they plan on provide funding to improve shelter and humanitarian assistance to immigrant wait in northern Mexico a well a provide COVID-19 test to ensure people present at POE have a negative test before be process accord to a Buzz feed News report Apparently the Biden administration plan to offer shelter and assistance to visa-less migrant even before they try to cross the border include COVID test As Howie Carr would say I just want to be treat like an illegal alien http t co prrKQBP41aMOST POPULAR Manchin Voter Obstruction Is Not Going to Happen White House Pursuing Joe Biden Reboot a Polls Collapse Kari Lake Once Elected I ll Declare Invasion and Close Border Texas Army National Guardsman Fires Upon Smugglers Vehicle Oregon Officials Float Making Indoor Mask Mandate Permanent CNN Op-Ed Claims everyone Excited by Prospect of Hillary s Comeback As U.S Athletes Face Mounting Dangers in Beijing Blink en Is in Kyiv Biden s Test Website Prevents Apartment Residents from Placing Orders Report Undermines NPR s SCOTUS Mask Drama Story Mark Kelly Backs Breaking Filibuster to Pass Voting Rights Reform FROM THE HOMEPAGE Poll Joe Biden Approval Rating Hits Record Low a He Reaches One Year a President Nolte Joe Biden s Job Approval Falls to Record Low in RCP Poll Average Poll Majority Believe Joe Biden Incapable of Leading the Country Establishment Reporters Say They Will Ask Joe Biden Serious Questions at Year-One Presser After Softball Campaign Bre it bart News Daily Podcast Ep 54 Dem In fight and Failure Presents the GOP an Opportunity Guest Rep Michael Waltz Poll GOP Leads Democrats by Double Digits on Economy National Security Jobs Nolte NPR Story About Neil Gor such Refusing to Wear Mask Debunked a Fake News Biden Administration to Distribute 400 Million N95 Masks Republicans in Congress Praise Parent Revolution Fighting Back Against School Mandates VP Kamala Harris Claims Attending Honduran President Inauguration Will Deter Illegal Immigration Kari Lake As Governor Ill Issue a Declaration of Invasion and Close the Border Texas Army National Guardsman Fires Upon Smugglers Vehicle near Border Nolte Texas Rabbis Account of Hostage Escape Contradicts FBI Spin 3.00 5g'"
      ]
     },
     "execution_count": 271,
     "metadata": {},
     "output_type": "execute_result"
    }
   ],
   "source": [
    "temp_2"
   ]
  },
  {
   "cell_type": "code",
   "execution_count": 272,
   "metadata": {},
   "outputs": [
    {
     "name": "stdout",
     "output_type": "stream",
     "text": [
      "politics entertainment media economy world london europe border cartel chronicles israel middle east africa asia latin america world video tech sports hill hill articles hill exclusive video wires b inspired breitbart politics entertainment media economy world london europe border cartel chronicles israel middle east africa asia latin america world news video tech sports hill hill articles hill exclusive video wires podcasts bre bart news daily b inspired us people newsletters biden suggest satisfied congress allocate 600 stimulus check american 900 billion coronavirus relief package adviser say push fund well housing coronavirus test foreign national mexico biden say congress job week reference democrat-controlled house republican-controlled senate passing package president trump hand demand package rework include 2,000 stimulus check american call reporter week biden transition team official say plan provide funding improve shelter humanitarian assistance immigrant wait northern mexico well provide covid-19 test ensure people present poe negative test process accord buzz feed news report apparently biden administration plan offer shelter assistance visa-less migrant even try cross border include covid test howie carr would say want treat like illegal alien http co prrkqbp41amost popular manchin voter obstruction going happen white house pursuing joe biden reboot polls collapse kari lake elected declare invasion close border texas army national guardsman fires upon smugglers vehicle oregon officials float making indoor mask mandate permanent cnn op-ed claims everyone excited prospect hillary comeback u.s athletes face mounting dangers beijing blink en kyiv biden test website prevents apartment residents placing orders report undermines npr scotus mask drama story mark kelly backs breaking filibuster pass voting rights reform homepage poll joe biden approval rating hits record low reaches one year president nolte joe biden job approval falls record low rcp poll average poll majority believe joe biden incapable leading country establishment reporters say ask joe biden serious questions year-one presser softball campaign bre bart news daily podcast ep 54 dem fight failure presents gop opportunity guest rep michael waltz poll gop leads democrats double digits economy national security jobs nolte npr story neil gor refusing wear mask debunked fake news biden administration distribute 400 million n95 masks republicans congress praise parent revolution fighting back school mandates vp kamala harris claims attending honduran president inauguration deter illegal immigration kari lake governor ill issue declaration invasion close border texas army national guardsman fires upon smugglers vehicle near border nolte texas rabbis account hostage escape contradicts fbi spin 3.00 5g\n"
     ]
    }
   ],
   "source": [
    "# step 4 & step 5\n",
    "step4_stop_words = set(stopwords.words('english'))\n",
    "result = ''\n",
    "for word in temp_2.split():\n",
    "    if word.lower() not in step4_stop_words:\n",
    "        result += ' ' + word.lower()\n",
    "print(result.strip())"
   ]
  },
  {
   "cell_type": "markdown",
   "metadata": {},
   "source": [
    "### Putting everything together"
   ]
  },
  {
   "cell_type": "code",
   "execution_count": 273,
   "metadata": {},
   "outputs": [],
   "source": [
    "def fulltext_clean(string):\n",
    "    #PREPARATION\n",
    "    # step 1\n",
    "    # repalce all characters with a white space except these three char -  ,  . among digits/letters; \n",
    "    # Eg. keep 2,000, 3.00, covid-19\n",
    "    remove_char = re.sub(r\"(?!(?<=[a-zA-Z0-9])[\\,\\.\\-](?=[a-zA-Z0-9]))[^a-zA-Z0-9 \\n]\",\" \", string)\n",
    "    # if there are more than one white spaces between words, reduce to one\n",
    "    remove_spaces = re.sub('\\s+', \" \", remove_char).strip()   \n",
    "\n",
    "    # step 2\n",
    "    # if a word matches this pattern or is in the list then we don't want to pass it to wordninja\n",
    "    # if there is hyphen, combination of letters and digits or pure capitalized letters, don't pass\n",
    "    wordninja_filter = re.compile(r\"-|([A-Za-z]+\\d+\\w*|\\d+[A-Za-z]+\\w*)|^[^a-z]*$\")\n",
    "    # if a word is in the list, don't pass it to wordninja because it can't handle the word well\n",
    "    words_pass = ['qanon', 'covid']\n",
    "    \n",
    "    # step 3\n",
    "    # set up for lemmatize\n",
    "    def get_wordnet_pos(word):\n",
    "        \"\"\"Map POS tag to first character lemmatize() accepts\"\"\"\n",
    "        tag = nltk.pos_tag([word])[0][1][0].upper()\n",
    "        tag_dict = {\"J\": wordnet.ADJ,\n",
    "                    \"N\": wordnet.NOUN,\n",
    "                    \"V\": wordnet.VERB,\n",
    "                    \"R\": wordnet.ADV}\n",
    "        return tag_dict.get(tag, wordnet.NOUN)\n",
    "\n",
    "    lemmatizer = WordNetLemmatizer()\n",
    "    \n",
    "    # step4\n",
    "    # prepare stop words\n",
    "    stop_words = set(stopwords.words('english'))\n",
    "\n",
    "    # CLEANING\n",
    "    # split the string by a white space\n",
    "    string_isolated = remove_spaces.split()\n",
    "\n",
    "    # check the string word by word to detect necessary split, lemmatize and remove stop word\n",
    "    words_split = ''\n",
    "    for el in string_isolated:\n",
    "        # step 2\n",
    "        # if the word matches the pattern or is in the list, then we don't pass it to wordnijia to split\n",
    "        if wordninja_filter.search(el) or el.lower() in words_pass:\n",
    "            temp = el\n",
    "        # all the other words will be checked and be split if necessary\n",
    "        else:\n",
    "            temp = ' '.join(wordninja.split(el))\n",
    "            \n",
    "        # step 3: lemmatize the word\n",
    "        words_lemmatized = lemmatizer.lemmatize(temp, get_wordnet_pos(temp))\n",
    "        \n",
    "        # step 4 & step 5\n",
    "        if words_lemmatized.lower() not in stop_words:\n",
    "             words_split += ' ' + words_lemmatized.lower()\n",
    "                \n",
    "    words_split = words_split.strip()\n",
    "        \n",
    "    return words_split"
   ]
  },
  {
   "cell_type": "code",
   "execution_count": 274,
   "metadata": {},
   "outputs": [
    {
     "data": {
      "text/plain": [
       "'PopularFully Vaxxed ESPN Host Stephen Smith Says He Nearly Died After Contracting CovidArmy Conducting Two-Week \\'Guerrilla Warfare Exercise\\' in Rural North Carolina Focused On Battling \\'Freedom Fighters\\'\\'Shut The F**k Up!\\' Fans Heckle NYC Mayor Eric Adams At New York Knicks GamePoll: Nearly Half of Democrats Support Fining or Imprisoning Americans Who \\'Question Efficacy\\' of Covid ShotsTrain Derails in Garbage-Strewn Area Trashed by Looters in Los Angeles BREAKING: Coca-Cola is forcing employees to complete online training telling them to \"try to be less white.\" These images are from an internal whistleblower: pic.twitter.com/gRi4N20esZ Karlyn supports banning critical race theory in NH (@DrKarlynB) February 19, 2021 Tucker Carlson\\'s Review Of Robin DiAngelo\\'s Book \\'White Fragility\\'\"The real point of her book is to defeat & demoralize you.\"\"Everything about \\'White Fragility\\' is poisonous garbage.\" pic.twitter.com/4lkyz57ROQ The Columbia Bugle  (@ColumbiaBugle) June 25, 2020 '"
      ]
     },
     "execution_count": 274,
     "metadata": {},
     "output_type": "execute_result"
    }
   ],
   "source": [
    "# original article\n",
    "single_article = data.iloc[2000,-2]\n",
    "single_article"
   ]
  },
  {
   "cell_type": "code",
   "execution_count": 275,
   "metadata": {},
   "outputs": [
    {
     "data": {
      "text/plain": [
       "'popular fully vax x ed espn host stephen smith says nearly died contracting c ovid army conducting two-week guerrilla warfare exercise rural north carolina focused battling freedom fighters shut f k fans heckle nyc mayor eric adams new york knicks game poll nearly half democrats support fining imprisoning americans question efficacy covid shots train derails garbage-strewn area trashed looters los angeles breaking coca-cola force employee complete online training tell try less white image internal whistle blower pic twitter com gri4n20esz karl yn support ban critical race theory nh dr karl yn b february 19 2021 tucker carlson review robin di angelo book white fragility real point book defeat demoralize everything white fragility poisonous garbage pic twitter com 4lkyz57roq columbia bugle columbia bugle june 25 2020'"
      ]
     },
     "execution_count": 275,
     "metadata": {},
     "output_type": "execute_result"
    }
   ],
   "source": [
    "# aritcle after cleaning\n",
    "fulltext_clean(single_article)"
   ]
  },
  {
   "cell_type": "markdown",
   "metadata": {},
   "source": [
    "### Discussion\n",
    "<br> 1. Should we deal with words that look like shi**t and f**k? Eg. see data.iloc[150, -2] and the case above\n",
    "<br> 2. If a word in 'word_pass' is concatenated together with another word, we can't separate it correctly. Eg. see the word 'CovidArmy' above - words like this will be sent to wordninja but since it can't separate covid well we end up getting c ovid army; if we don't pass it to wordninja we end up getting covidarmy"
   ]
  },
  {
   "cell_type": "code",
   "execution_count": null,
   "metadata": {},
   "outputs": [],
   "source": []
  }
 ],
 "metadata": {
  "kernelspec": {
   "display_name": "Python 3",
   "language": "python",
   "name": "python3"
  },
  "language_info": {
   "codemirror_mode": {
    "name": "ipython",
    "version": 3
   },
   "file_extension": ".py",
   "mimetype": "text/x-python",
   "name": "python",
   "nbconvert_exporter": "python",
   "pygments_lexer": "ipython3",
   "version": "3.7.4"
  }
 },
 "nbformat": 4,
 "nbformat_minor": 4
}
