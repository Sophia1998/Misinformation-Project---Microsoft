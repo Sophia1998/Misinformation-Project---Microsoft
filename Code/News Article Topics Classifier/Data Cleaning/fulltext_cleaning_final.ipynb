{
 "cells": [
  {
   "cell_type": "code",
   "execution_count": 4,
   "metadata": {},
   "outputs": [
    {
     "name": "stderr",
     "output_type": "stream",
     "text": [
      "[nltk_data] Downloading package averaged_perceptron_tagger to\n",
      "[nltk_data]     /Users/summerai/nltk_data...\n",
      "[nltk_data]   Package averaged_perceptron_tagger is already up-to-\n",
      "[nltk_data]       date!\n",
      "[nltk_data] Downloading package punkt to /Users/summerai/nltk_data...\n",
      "[nltk_data]   Package punkt is already up-to-date!\n",
      "[nltk_data] Downloading package stopwords to\n",
      "[nltk_data]     /Users/summerai/nltk_data...\n",
      "[nltk_data]   Package stopwords is already up-to-date!\n"
     ]
    }
   ],
   "source": [
    "import pandas as pd\n",
    "import wordninja\n",
    "import re\n",
    "import nltk\n",
    "from nltk.corpus import wordnet\n",
    "from nltk.stem import WordNetLemmatizer \n",
    "from nltk.corpus import stopwords\n",
    "nltk.download('averaged_perceptron_tagger')\n",
    "nltk.download('punkt')\n",
    "nltk.download('stopwords')\n",
    "from sklearn.model_selection import train_test_split"
   ]
  },
  {
   "cell_type": "code",
   "execution_count": 5,
   "metadata": {},
   "outputs": [],
   "source": [
    "# import data\n",
    "df = pd.read_csv('combined_fulltext.csv')"
   ]
  },
  {
   "cell_type": "code",
   "execution_count": 6,
   "metadata": {},
   "outputs": [],
   "source": [
    "# select necessary data\n",
    "df = df[['uid','full_text','classifiers']]\n",
    "df = df[df['full_text'].notnull()].reset_index(drop=True)"
   ]
  },
  {
   "cell_type": "code",
   "execution_count": 9,
   "metadata": {},
   "outputs": [],
   "source": [
    "# split multiple lables to rows\n",
    "data = df.set_index(['uid', 'full_text']) \\\n",
    "                 .apply(lambda x: x.str.split('|').explode()).reset_index()"
   ]
  },
  {
   "cell_type": "code",
   "execution_count": 12,
   "metadata": {},
   "outputs": [],
   "source": [
    "# create a function to clean the text\n",
    "def fulltext_clean(string):\n",
    "    #PREPARATION\n",
    "    # step 1\n",
    "    # repalce all characters with a white space except these three char -  ,  . among digits/letters; \n",
    "    # Eg. keep 2,000, 3.00, covid-19\n",
    "    remove_char = re.sub(r\"(?!(?<=[a-zA-Z0-9])[\\,\\.\\-](?=[a-zA-Z0-9]))[^a-zA-Z0-9 \\n]\",\" \", string)\n",
    "    # if there are more than one white spaces between words, reduce to one\n",
    "    remove_spaces = re.sub('\\s+', \" \", remove_char).strip()   \n",
    "\n",
    "    # step 2\n",
    "    # if a word matches this pattern or is in the list then we don't want to pass it to wordninja\n",
    "    # if there is hyphen, combination of letters and digits or pure capitalized letters, don't pass\n",
    "    wordninja_filter = re.compile(r\"-|([A-Za-z]+\\d+\\w*|\\d+[A-Za-z]+\\w*)|^[^a-z]*$\")\n",
    "    # if a word is in the list, don't pass it to wordninja because it can't handle the word well\n",
    "    words_pass = ['qanon', 'covid']\n",
    "    \n",
    "    # step 3\n",
    "    # set up for lemmatize\n",
    "    def get_wordnet_pos(word):\n",
    "        \"\"\"Map POS tag to first character lemmatize() accepts\"\"\"\n",
    "        tag = nltk.pos_tag([word])[0][1][0].upper()\n",
    "        tag_dict = {\"J\": wordnet.ADJ,\n",
    "                    \"N\": wordnet.NOUN,\n",
    "                    \"V\": wordnet.VERB,\n",
    "                    \"R\": wordnet.ADV}\n",
    "        return tag_dict.get(tag, wordnet.NOUN)\n",
    "\n",
    "    lemmatizer = WordNetLemmatizer()\n",
    "    \n",
    "    # step4\n",
    "    # remove stop words\n",
    "    stop_words = set(stopwords.words('english'))\n",
    "\n",
    "    # CLEANING\n",
    "    # split the string by a white space\n",
    "    string_isolated = remove_spaces.split()\n",
    "\n",
    "    # check the string word by word to detect necessary split, lemmatize and remove stop word\n",
    "    words_split = ''\n",
    "    for el in string_isolated:\n",
    "        # step 2\n",
    "        # if the word matches the pattern or is in the list, then we don't pass it to wordnijia to split\n",
    "        if wordninja_filter.search(el) or el.lower() in words_pass:\n",
    "            temp = el\n",
    "        # all the other words will be checked and be split if necessary\n",
    "        else:\n",
    "            temp = ' '.join(wordninja.split(el))\n",
    "            \n",
    "        # step 3: lemmatize the word\n",
    "        words_lemmatized = lemmatizer.lemmatize(temp, get_wordnet_pos(temp))\n",
    "        \n",
    "        # step 4 & step 5\n",
    "        if words_lemmatized.lower() not in stop_words:\n",
    "             words_split += ' ' + words_lemmatized.lower()\n",
    "                \n",
    "    words_split = words_split.strip()\n",
    "        \n",
    "    return words_split"
   ]
  },
  {
   "cell_type": "code",
   "execution_count": 13,
   "metadata": {},
   "outputs": [],
   "source": [
    "# apply the function to the whole dataset\n",
    "for i in range(len(data)):\n",
    "    string = data.iloc[i,-2]\n",
    "    data.iloc[i,-2] = fulltext_clean(string)"
   ]
  },
  {
   "cell_type": "code",
   "execution_count": 14,
   "metadata": {},
   "outputs": [],
   "source": [
    "# apply one hot encoding\n",
    "one_hot = pd.get_dummies(data['classifiers'])\n",
    "data.drop(columns = 'classifiers', axis=1, inplace=True)\n",
    "final_data = data.join(one_hot)"
   ]
  },
  {
   "cell_type": "code",
   "execution_count": 16,
   "metadata": {},
   "outputs": [],
   "source": [
    "# output the data into csv format\n",
    "final_data.to_csv('fulltext_cleaned.csv', index=False)"
   ]
  },
  {
   "cell_type": "code",
   "execution_count": null,
   "metadata": {},
   "outputs": [],
   "source": []
  }
 ],
 "metadata": {
  "kernelspec": {
   "display_name": "Python 3",
   "language": "python",
   "name": "python3"
  },
  "language_info": {
   "codemirror_mode": {
    "name": "ipython",
    "version": 3
   },
   "file_extension": ".py",
   "mimetype": "text/x-python",
   "name": "python",
   "nbconvert_exporter": "python",
   "pygments_lexer": "ipython3",
   "version": "3.8.5"
  }
 },
 "nbformat": 4,
 "nbformat_minor": 4
}
