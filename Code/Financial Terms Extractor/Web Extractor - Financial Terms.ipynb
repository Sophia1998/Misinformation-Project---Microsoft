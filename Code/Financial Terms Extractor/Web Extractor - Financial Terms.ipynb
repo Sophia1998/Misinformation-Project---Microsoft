{
 "cells": [
  {
   "cell_type": "markdown",
   "metadata": {},
   "source": [
    "# Exploration:  Domain Extractor for Finicial-Related Terms\n",
    "Author: Runting Shao"
   ]
  },
  {
   "cell_type": "code",
   "execution_count": 1,
   "metadata": {},
   "outputs": [
    {
     "name": "stderr",
     "output_type": "stream",
     "text": [
      "C:\\Users\\SophiaShao\\Anaconda3\\lib\\site-packages\\requests\\__init__.py:91: RequestsDependencyWarning: urllib3 (1.26.7) or chardet (3.0.4) doesn't match a supported version!\n",
      "  RequestsDependencyWarning)\n"
     ]
    }
   ],
   "source": [
    "#Import python package \n",
    "import numpy as np\n",
    "import pandas as pd\n",
    "from bs4 import BeautifulSoup\n",
    "import requests\n",
    "from tqdm import tqdm\n",
    "import ahocorasick"
   ]
  },
  {
   "cell_type": "code",
   "execution_count": 2,
   "metadata": {},
   "outputs": [
    {
     "name": "stdout",
     "output_type": "stream",
     "text": [
      "2615\n"
     ]
    }
   ],
   "source": [
    "train_data = pd.read_csv('TCCSocialMediaData_combined_clean_emotes.csv')\n",
    "#test_data = pd.read_csv('Data/Cleaned_Data/TCCSocialMediaData_test_clean.csv')\n",
    "unique_domain_train = pd.unique(train_data.domain)\n",
    "#unique_domain_test = pd.unique(test_data.domain)\n",
    "#l1 = [x for x in unique_domain_train]\n",
    "#l2 = [x for x in unique_domain_test]\n",
    "#unique_domain = np.unique(l1 + l2).tolist()\n",
    "print(len(unique_domain_train))"
   ]
  },
  {
   "cell_type": "code",
   "execution_count": 3,
   "metadata": {},
   "outputs": [],
   "source": [
    "domains = unique_domain_train"
   ]
  },
  {
   "cell_type": "code",
   "execution_count": 4,
   "metadata": {},
   "outputs": [],
   "source": [
    "search_terms = {\n",
    "    1: [\"donation\",\"donate\",\"patron\"],# Donate, Be a Patron etc. \n",
    "    2: [\"store\",\"shop\"], # Shop, Shoping, Shop with us etc.\n",
    "    3: [\"subscribe\",\"subscription\",\"membership\"],\n",
    "    4: [\"advertis\"], # Advertise, Advertising, Advertisement\n",
    "    5: [\"sale\",\"deal\",\"discount\",\"% off\",\"low price\",\"coupon\"],\n",
    "    6: [\"free\",\"no cost\"],\n",
    "    7: [\"money\",\"cash\",\"dollar\"],\n",
    "    8: [\"pay\",\"buy\",\"earn\"],\n",
    "    9: [\"newsletter\"]\n",
    "}"
   ]
  },
  {
   "cell_type": "code",
   "execution_count": 5,
   "metadata": {},
   "outputs": [],
   "source": [
    "#This function uses the Aho-Corasick Algorithm to count the existence of a category of terms in a text string\n",
    "def ahocorasickCount(terms, text):\n",
    "    count = 0\n",
    "    # Make a searcher\n",
    "    searcher = ahocorasick.Automaton()\n",
    "    for i, term in enumerate(terms):\n",
    "        searcher.add_word(term, i)\n",
    "    searcher.make_automaton()\n",
    "    # Add up all counts for a category of terms\n",
    "    for _ in searcher.iter(text):\n",
    "        count = count + 1\n",
    "    return count"
   ]
  },
  {
   "cell_type": "code",
   "execution_count": 6,
   "metadata": {},
   "outputs": [],
   "source": [
    "class finicialTermsExtractor():\n",
    "    \n",
    "    def __init__(self, userAgent):\n",
    "        self.userAgent = userAgent\n",
    "    \n",
    "    '''Read through all the domains and get all availiable htmls\n",
    "    Parse the htmls with beautiful soup\n",
    "    Input: domains - list of domains\n",
    "    Output: 1. accessacle_domain - a dictionry with domain(key) and its html after parsing(value)\n",
    "            2. errors - a list of domains that are not able to open'''\n",
    "    def htmlCrawler(self, domains):\n",
    "        errors = []\n",
    "        accessable_domain = {}\n",
    "        headers = {'userAgent' : self.userAgent}\n",
    "        print(\"Html Crawl Progress - Getting html for all domains:\")\n",
    "        for d in tqdm(domains):\n",
    "            fulllink = \"http://www.\" + d\n",
    "            try:\n",
    "                req = requests.get(fulllink,headers,timeout=5)\n",
    "                soup = BeautifulSoup(req.text, \"html.parser\")\n",
    "                accessable_domain.update({d:soup})\n",
    "            except Exception as e:\n",
    "                errors.append(d)\n",
    "        return accessable_domain, errors\n",
    "\n",
    "    '''Check if the terms in \"dict_sublink\" existed in the sublink of the domain\n",
    "    Input: 1. accessable_domains -  a dictionry with domain(key) and its html after parsing(value)\n",
    "           2. dict_sublink - dictionary of terms to be checked\n",
    "    Output: result - a dictionary containing categories of terms (key), whether terms exist in sublink(T/F)\n",
    "            Append true for a category if any of the terms in the category existed as sublink'''\n",
    "    def checkSublink(self, accessable_domains, search_terms):\n",
    "        result = search_terms.copy()\n",
    "        #Initialize a result dict\n",
    "        for k in result.keys():\n",
    "            result.update({k: []})\n",
    "        for domain in tqdm(accessable_domains):\n",
    "            domain_name = domain\n",
    "            if '.'in domain:\n",
    "                domain_name = domain[:domain.index('.')]\n",
    "            soup = accessable_domains.get(domain)\n",
    "            all_link_txt = soup.get_text()\n",
    "            #Get all link text and search for terms\n",
    "            for link in soup.find_all('a'):\n",
    "                href = link.get(\"href\")\n",
    "                # Define if a href exists and not belong to the domain and text exists\n",
    "                if(href and (href[0] == '/' or href[0] =='#' or domain_name in href) and link.string):\n",
    "                        all_link_txt = all_link_txt + link.string.lower()\n",
    "            for category in search_terms:\n",
    "                terms = search_terms.get(category) # list of finicial related terms\n",
    "                count = ahocorasickCount(terms, all_link_txt)# count terms existed in all_link_txt\n",
    "                result.get(category).append(count)\n",
    "        return result\n",
    "    \n",
    "    '''Check if the terms in \"dict_adcontent\" existed in the text from third-party domains\n",
    "    Input: 1. accessable_domains -  a dictionry with domain(key) and its html after parsing(value)\n",
    "           2. dict_adcontent - dictionary of terms to be checked\n",
    "    Output: result - a dictionary containing categories of terms (key), count of terms existed in text\n",
    "            Append count of all terms existed for a category'''\n",
    "    def checkAdContent(self, accessable_domains, search_terms):\n",
    "        #Initialize result\n",
    "        result = search_terms.copy()\n",
    "        for k in result.keys():\n",
    "            result.update({k: []})\n",
    "        \n",
    "        for domain in tqdm(accessable_domains):\n",
    "            #Get domain name - domain: oann.com, domain name: oann\n",
    "            domain_name = domain\n",
    "            if '.'in domain:\n",
    "                domain_name = domain[:domain.index('.')]\n",
    "            soup = accessable_domains.get(domain)\n",
    "            ad_txt = \"\"\n",
    "            for link in soup.find_all('a'):\n",
    "                href = link.get(\"href\")\n",
    "                # Define if a href exists and not belong to the domain\n",
    "                if(href and href[0] != '/' and href[0] !='#' and domain_name not in href):\n",
    "                    # if the text exists\n",
    "                    if(link.string):\n",
    "                        ad_txt = ad_txt + link.string.lower()\n",
    "                    # if img-alt exists\n",
    "                    for img in link.find_all('img', alt= True):\n",
    "                        ad_txt = ad_txt + img['alt'].lower()\n",
    "            for category in search_terms:\n",
    "                terms = search_terms.get(category) # list of finicial related terms\n",
    "                count = ahocorasickCount(terms, ad_txt)# count terms existed in ad_txt\n",
    "                result.get(category).append(count)\n",
    "        return result"
   ]
  },
  {
   "cell_type": "code",
   "execution_count": 7,
   "metadata": {},
   "outputs": [
    {
     "name": "stdout",
     "output_type": "stream",
     "text": [
      "Html Crawl Progress - Getting html for all domains:\n"
     ]
    },
    {
     "name": "stderr",
     "output_type": "stream",
     "text": [
      "100%|████████████████████████████████████████████████████████████████████████████| 2615/2615 [1:16:21<00:00,  1.75s/it]\n"
     ]
    }
   ],
   "source": [
    "#Apply user agent\n",
    "userAgent = 'Mozilla/5.0 (Windows NT 10.0; Win64; x64) AppleWebKit/537.36 (KHTML, like Gecko) Chrome/95.0.4638.69 Safari/537.36 Edg/95.0.1020.53'\n",
    "crawler = finicialTermsExtractor(userAgent)\n",
    "#Getting parsed htmls\n",
    "accessable_domain, errors = crawler.htmlCrawler(domains)"
   ]
  },
  {
   "cell_type": "code",
   "execution_count": 8,
   "metadata": {},
   "outputs": [
    {
     "name": "stdout",
     "output_type": "stream",
     "text": [
      "dict_keys(['tmz.com', 'forbes.com', 'msn.com', 'nbcnews.com', 'newsone.com', 'westernjournal.com', 'sciencenews.org', 'theepochtimes.com', 'thehill.com', 'yahoo.com', 'foxnews.com', 'bongino.com', 'pjmedia.com', 'politicalflare.com', 'breitbart.com', 'motherjones.com', 'dailywire.com', 'dailymail.co.uk', 'theguardian.com', 'politico.com', 'conservativebrief.com', 'boston.com', 'npr.org', 'thefederalist.com', 'cnn.com', 'nypost.com', 'cnbc.com', 'zerohedge.com', 'commondreams.org', 'rightwingtribune.com', 'news.yahoo.com', 'pbs.org', 'thegatewaypundit.com', 'usatoday.com', 'bloomberg.com', 'buzzfeednews.com', 'thewashingtonsentinel.com', 'vice.com', 'wnd.com', 'rawstory.com', 'huffpost.com', 'sun-sentinel.com', 'blackamericaweb.com', 'nationalreview.com', 'ammoland.com', 'middleeastmonitor.com', 'msnbc.com', 'reuters.com', 'kvue.com', 'washingtonexaminer.com', 'abcnews.go.com', 'newsweek.com', 'endtimeheadlines.org', 'nytimes.com', 'lifesitenews.com', 'davidharrisjr.com', 'rushlimbaugh.com', 'cbsnews.com', 'latimes.com', 'nationalfile.com', 'trendingpolitics.com', 'wvgazettemail.com', 'tempi.it', 'arizonadailyindependent.com', 'saraacarter.com', 'espn.com', 'dailykos.com', 'theconservativeopinion.com', 'aol.com', 'newsmax.com', 'thenewamerican.com', 'americanmilitarynews.com', 'christianheadlines.com', 'glennbeck.com', 'townhall.com', 'slate.com', 'pennlive.com', 'dennismichaellynch.com', 'vox.com', 'wlns.com', 'dispatch.com', 'theblaze.com', 'wsvn.com', 'washingtonmonthly.com', 'medicalxpress.com', 'occupydemocrats.com', 'ilfoglio.it', 'businessinsider.com', 'waynedupree.com', 'laist.com', '100percentfedup.com', 'politicususa.com', 'lawandcrime.com', 'redstate.com', 'aclj.org', 'uproxx.com', 'salon.com', 'bizpacreview.com', 'apnews.com', 'axios.com', 'wsj.com', 'wlfi.com', 'thepostmillennial.com', 'newyorker.com', 'alternet.org', 'cbs58.com', 'theatlantic.com', 'fox6now.com', 'nymag.com', 'conservativedailypost.com', 'beforeitsnews.com', 'wjactv.com', 'thedailybeast.com', 'dailysoundandfury.com', 'ktla.com', 'liveaction.org', 'click2houston.com', 'tallahassee.com', 'buffalonews.com', 'fox4kc.com', 'time.com', 'politifact.com', 'express.co.uk', 'fee.org', 'esquire.com', 'welovetrump.com', 'lewrockwell.com', 'bluelivesmatter.blue', 'theconservativeoutlet.com', 'hawaiinewsnow.com', 'independent.co.uk', 'thecity.nyc', 'upi.com', 'scientificamerican.com', 'phys.org', 'wvtm13.com', 'vanityfair.com', 'militarytimes.com', 'judicialwatch.org', 'magaconservatives.com', 'cbsaustin.com', 'neonnettle.com', 'wflx.com', 'tennessean.com', 'face2faceafrica.com', 'nbcphiladelphia.com', 'scotusblog.com', 'foxbusiness.com', 'fox2detroit.com', 'nature.com', 'mlive.com', 'govexec.com', 'meaww.com', 'amgreatness.com', 'washingtontimes.com', 'today.com', 'wwltv.com', 'dw.com', 'americanthinker.com', 'houstonchronicle.com', 'bet.com', 'heavy.com', 'foxbaltimore.com', 'charliekirk.com', 'justthenews.com', 'rt.com', 'palmerreport.com', 'penncapital-star.com', 'indiancountrytoday.com', 'wmbfnews.com', 'themarshallreport.wordpress.com', 'illinoispolicy.org', 'nbcwashington.com', 'thewrap.com', 'bbc.com', 'gellerreport.com', 'c-span.org', 'fox43.com', 'dailysignal.com', 'texastribune.org', 'thepoliticalinsider.com', 'nbcnewyork.com', 'djhjmedia.com', 'cbs8.com', 'frontpagemag.com', 'news4jax.com', 'wearemitu.com', 'finance.yahoo.com', 'chicagotribune.com', 'brookings.edu', 'freep.com', 'rollingstone.com', 'futurism.com', 'ajc.com', 'hannity.com', 'mercurynews.com', 'chron.com', 'huffingtonpost.it', 'blackenterprise.com', 'abc10.com', 'wfaa.com', 'billoreilly.com', 'insider.com', 'economist.com', 'goodmorningamerica.com', 'gatestoneinstitute.org', 'theglobeandmail.com', 'cnet.com', 'thenationalpulse.com', 'oann.com', 'au.news.yahoo.com', 'lancastercourier.com', 'abc7chicago.com', 'wapt.com', 'floridapolitics.com', 'foxla.com', 'tampabay.com', 'rasmussenreports.com', 'cleveland.com', 'nj.com', 'polinews.org', 'fox59.com', 'accuweather.com', 'uniteamericafirst.com', 'belfasttelegraph.co.uk', 'nativenewsonline.net', 'prospect.org', 'conservativefiringline.com', 'talkingpointsmemo.com', 'mintpressnews.com', 'theintercept.com', 'miaminewtimes.com', 'truthout.org', 'naplesnews.com', 'phillyvoice.com', 'azcentral.com', 'ijr.org', 'video.foxnews.com', 'abc13.com', 'thesun.co.uk', 'thegrio.com', 'marijuanamoment.net', 'newsday.com', 'richmond.com', 'newsandguts.com', 'dailycaller.com', 'lgbtqnation.com', 'therightscoop.com', 'wdrb.com', 'abc11.com', 'conservativept.com', 'clickondetroit.com', 'teenvogue.com', 'buffalochronicle.com', 'history.com', 'washingtonblade.com', 'patheos.com', 'mikehuckabee.com', 'spectator.us', 'therealdeal.com', 'mediaite.com', 'indy100.com', 'orlandosentinel.com', 'noqreport.com', 'wgntv.com', 'madison.com', 'mashable.com', 'afrotech.com', 'freebeacon.com', 'newsbusters.org', 'healthimpactnews.com', 'foxbangor.com', 'tulsaworld.com', 'timesunion.com', 'pewresearch.org', 'koco.com', 'analyzingamerica.org', 'providencejournal.com', 'post-gazette.com', '11alive.com', 'kgw.com', 'theroot.com', 'city-journal.org', 'flagandcross.com', 'abc7ny.com', 'realclearpolitics.com', 'plantbasednews.org', 'courant.com', 'dcdirtylaundry.com', 'northjersey.com', 'mediabiasfactcheck.com', 'dailydot.com', 'uncoverdc.com', 'news10.com', 'sltrib.com', 'woodtv.com', 'nbcmiami.com', 'sfchronicle.com', 'wptv.com', 'rare.us', 'lifenews.com', 'infowars.com', 'louderwithcrowder.com', 'atlantablackstar.com', 'reviewjournal.com', 'wjla.com', 'theweek.com', 'defenseone.com', 'propublica.org', 'kdrv.com', 'thecentersquare.com', 'cbssports.com', 'sacurrent.com', 'newjerseyglobe.com', 'essence.com', 'wisn.com', 'inquirer.com', 'bigleaguepolitics.com', 'newsy.com', 'edition.cnn.com', 'cnnespanol.cnn.com', '6abc.com', 'charismanews.com', 'whyy.org', 'detroitnews.com', 'chicksonright.com', 'conservativepost.com', 'livescience.com', 'ktvq.com', 'wbtv.com', 'prageru.com', 'mediamatters.org', 'sports.yahoo.com', 'abc7.com', 'tvline.com', 'military.com', 'univision.com', 'kget.com', 'modernhealthcare.com', 'lauraingraham.com', 'newatlas.com', 'newsnationnow.com', 'stripes.com', 'abc15.com', 'wric.com', 'nbc4i.com', 'wsls.com', 'mynews13.com', 'dallasnews.com', 'clickorlando.com', 'pantagraph.com', 'startribune.com', 'brigittegabriel.com', 'redstateobserver.com', 'rfi.fr', 'keyt.com', 'nbcconnecticut.com', 'lifezette.com', 'bizjournals.com', 'video.foxbusiness.com', 'tierneyrealnewsnetwork.com', 'americamagazine.org', 'straight.com', 'americaslastlineofdefense.com', 'jesusdaily.com', 'triblive.com', 'bostonherald.com', 'variety.com', 'marinecorpstimes.com', 'rand.org', 'reason.com', 'bostonglobe.com', 'abc7news.com', 'ntd.com', 'elizabethjohnston.org', 'blacknews.com', 'becauseofthemwecan.com', 'wxyz.com', 'perezhilton.com', 'abcnews4.com', 'jpost.com', 'unitynewsnetwork.co.uk', 'statnews.com', 'crosscut.com', 'greatgameindia.com', 'wral.com', '10tv.com', 'twincities.com', 'fox10phoenix.com', 'mrctv.org', 'whio.com', 'thenation.com', 'zeit.de', 'ronpaulinstitute.org', 'inthesetimes.com', 'markets.businessinsider.com', 'stopworldcontrol.com', 'thegreggjarrett.com', 'rfangle.com', 'fortune.com', 'phillymag.com', 'revolver.news', 'iflscience.com', 'theverge.com', 'factcheck.org', 'religionnews.com', 'dcclothesline.com', 'billmoyers.com', 'wtxl.com', 'fox9.com', '8newsnow.com', 'tennesseestar.com', 'everylegalvote.com', 'al.com', 'sierraclub.org', 'radio.com', 'toddstarnes.com', 'wisconsinexaminer.com', 'ecowatch.com', 'nowthisnews.com', 'humansarefree.com', 'rollcall.com', 'patch.com', 'dailygumbo.com', 'cardinalpine.com', 'desmoinesregister.com', 'intellectualtakeout.org', 'kiro7.com', 'spectrumnews1.com', 'jacobinmag.com', 'visiontimes.com', 'uschronicle.com', 'kezi.com', 'fox5ny.com', 'vogue.com', 'baltimoresun.com', 'entrepreneur.com', 'fox5sandiego.com', 'voanews.com', 'chicago.suntimes.com', 'nationalmemo.com', 'timesofisrael.com', 'patriotproject.com', 'spectator.org', 'sandiegouniontribune.com', 'cdc.gov', 'madworldnews.com', 'hotair.com', 'stream.org', 'acpjournals.org', 'bbc.co.uk', 'frontpagelive.com', 'nickadamsusa.com', 'wesh.com', 'wtvr.com', '10news.com', 'democracynow.org', 'denverpost.com', 'policetribune.com', 'stltoday.com', 'webmd.com', 'rainews.it', 'abqjournal.com', 'technocracy.news', 'oregonlive.com', 'christianpost.com', 'kark.com', 'mynorthwest.com', 'worlddoctorsalliance.com', 'americasfrontlinedoctors.org', 'greenbaypressgazette.com', 'crooksandliars.com', 'ktvu.com', 'fox26houston.com', 'cbs46.com', 'bridgemi.com', 'grist.org', 'marketwatch.com', 'childrenshealthdefense.org', 'fox5atlanta.com', 'wcvb.com', 'nydailynews.com', 'dailyboulder.com', 'sciencebasedmedicine.org', 'patriotpost.us', 'forward.com', 'mynbc15.com', 'justsecurity.org', 'informationliberation.com', 'wusa9.com', 'jsonline.com', 'upworthy.com', 'enterprisenews.com', 'wivb.com', 'stamfordadvocate.com', 'fox8.com', 'pcmag.com', 'conservativematrix.com', 'americanlookout.com', 'gizmodo.com', 'dailyvoice.com', '12news.com', 'diamondandsilk.com', 'abc27.com', 'wtkr.com', 'azfamily.com', 'minnesotareformer.com', 'huffingtonpost.co.uk', 'sciencealert.com', 'fox13news.com', 'lacrossetribune.com', 'organicconsumers.org', 'politicaltribune.org', 'publishedreporter.com', 'illicitinfo.com', 'theguardiansofdemocracy.com', 'telemundo.com', 'mprnews.org', 'conservativedailynews.com', 'haaretz.com', 'newspunch.com', 'zdnet.com', 'gregpalast.com', 'ft.com', 'wibw.com', 'weartv.com', 'wsoctv.com', 'advocate.com', 'fox5vegas.com', 'thetimesnews.com', 'newschannel20.com', 'twitchy.com', 'mtonews.com', 'ncregister.com', 'uafreport.com', 'fox29.com', 'tcpalm.com', 'local12.com', 'lamag.com', 'elpasotimes.com', 'whas11.com', 'wchstv.com', 'en-volve.com', 'wymt.com', 'bgr.com', 'mises.org', 'kcra.com', 'wtnh.com', 'wdsu.com', 'commentarymagazine.com', 'theusawire.com', 'worldometers.info', 'lovebscott.com', 'nbc25news.com', 'theconservativetreehouse.com', 'wbur.org', 'couriernewsroom.com', 'legalinsurrection.com', 'sojo.net', 'billypenn.com', 'thenevadaindependent.com', 'fastcompany.com', 'newrepublic.com', 'deadline.com', 'independentsentinel.com', 'kvoa.com', 'fox8live.com', 'billingsgazette.com', 'nojabforme.info', 'inquisitr.com', 'medicalnewstoday.com', 'jihadwatch.org', 'wickedlocal.com', 'catholicnewsagency.com', 'caller.com', 'wlky.com', 'good.is', 'thetexan.news', 'thenorthstar.com', 'abc3340.com', 'queerty.com', 'heraldtribune.com', 'scotsman.com', 'indianexpress.com', 'thecut.com', 'vt.co', 'kxan.com', 'prntly.com', 'goodnewsnetwork.org', 'politico.eu', 'gingrich360.com', 'space.com', 'jta.org', 'fox4now.com', 'patriotsgazette.com', 'courthousenews.com', 'outkick.com', 'fox61.com', 'thefederalistpapers.org', 'ussanews.com', 'news4sanantonio.com', 'mic.com', 'truth11.com', 'fox17.com', 'corriere.it', 'humanevents.com', 'pinknews.co.uk', 'giornalettismo.com', 'fox35orlando.com', 'awakening.news', 'foreignaffairs.com', 'nationalpost.com', 'lasentinel.net', 'adn.com', 'aclu.org', 'smithsonianmag.com', 'wnep.com', '9and10news.com', 'kslnewsradio.com', 'greenmedinfo.com', 'blockclubchicago.org', 'blavity.com', 'standard.co.uk', 'thebeltwayreport.com', 'powerlineblog.com', 'theredelephants.com', 'kxly.com', 'aapsonline.org', 'secondamendmentdaily.com', 'dallasobserver.com', 'menshealth.com', 'medicalkidnap.com', 'daily-journal.com', 'theappeal.org', 'sarahpalin.com', 'heraldextra.com', 'kmbc.com', 'wowktv.com', 'abc30.com', 'trumptrainnews.com', 'abcactionnews.com', 'krem.com', 'mcall.com', 'yellowhammernews.com', 'omaha.com', 'ocregister.com', 'thedenverchannel.com', 'csmonitor.com', 'theundefeated.com', 'healthline.com', 'cbc.ca', 'teaparty.org', 'nrdc.org', 'summit.news', 'americanactionnews.com', 'hillreporter.com', 'scmp.com', 'thelily.com', 'hermancain.com', 'californiaglobe.com', 'theblacksphere.net', 'foreignpolicy.com', 'local10.com', 'money.yahoo.com', 'wave3.com', 'ballotpedia.org', 'mirror.co.uk', 'poynter.org', 'kitv.com', 'wkyt.com', 'carolinapublicpress.org', 'wfla.com', 'crimeonline.com', 'opb.org', 'wtrf.com', 'wtsp.com', 'thebulwark.com', 'wbaltv.com', 'fda.gov', 'pix11.com', 'fox16.com', 'sfgate.com', 'fool.com', 'weforum.org', 'fivethirtyeight.com', 'msmagazine.com', 'firstcoastnews.com', 'investors.com', 'aljazeera.com', 'wdam.com', 'redding.com', 'telegraph.co.uk', 'elle.com', 'cbs17.com', 'thestar.com', 'psychologytoday.com', 'tyt.com', 'tucson.com', 'ansa.it', 'realrawnews.com', 'digg.com', 'wcyb.com', 'law.com', 'staradvertiser.com', 'snopes.com', 'chicagobusiness.com', 'wgbh.org', 'collective-evolution.com', 'whdh.com', 'thehayride.com', 'clashdaily.com', 'wsbt.com', 'repubblica.it', 'popsugar.com', 'koin.com', 'nbcboston.com', 'spectrumlocalnews.com', 'heraldmailmedia.com', 'banned.video', 'bild.de', 'scitechdaily.com', 'kob.com', 'libertyhub.com', 'mysanantonio.com', 'erienewsnow.com', 'insideedition.com', 'tabletmag.com', 'delcotimes.com', 'thetruthaboutcancer.com', 'komonews.com', 'wsbtv.com', 'cato.org', 'revealnews.org', 'cbs6albany.com', 'mississippitoday.org', 'plannedparenthood.org', '79days.news', 'middleeasteye.net', 'fox32chicago.com', 'gazette.com', 'courier-journal.com', 'wpde.com', 'theleoterrell.com', 'kutv.com', 'self.com', 'lmtonline.com', 'puppetstringnews.com', 'ilprimatonazionale.it', 'inforum.com', 'newschannel10.com', 'faithwire.com', 'king5.com', 'michiganadvance.com', 'thefreethoughtproject.com', 'metro.co.uk', 'coronavirus.jhu.edu', 'theadvocate.com', 'attitude.co.uk', 'distributednews.com', 'kristv.com', 'localdvm.com', 'rochesterfirst.com', 'sciencetimes.com', 'nwherald.com', 'secondnexus.com', 'wmur.com', 'uppermichiganssource.com', 'wzzm13.com', 'bustle.com', 'kenoshanews.com', 'theamericanreport.org', 'jacksonville.com', 'bnc.tv', '5newsonline.com', 'epochtimes.de', 'ksat.com', 'sott.net', 'davidicke.com', 'katv.com', 'splcenter.org', 'baynews9.com', 'taterforceone.com', 'deadstate.org', 'wdbj7.com', '21stcenturywire.com', 'kptv.com', 'wvnstv.com', 'wlwt.com', 'fox4news.com', 'wabe.org', 'out.com', 'news3lv.com', 'abc4.com', 'discovermagazine.com', 'theconversation.com', 'masslive.com', 'nbc-2.com', 'wbez.org', 'jewishjournal.com', 'seekingalpha.com', 'health.com', 'afinalwarning.com', 'kdvr.com', 'wthr.com', 'ksl.com', 'capecodtimes.com', 'clevescene.com', 'beaconjournal.com', 'upnorthlive.com', 'bmj.com', 'anticatholicticket.com', 'timesfreepress.com', 'waow.com', 'statesman.com', 'kron4.com', 'techcrunch.com', 'wwnytv.com', 'money.com', 'tapinto.net', 'nowtheendbegins.com', 'ibtimes.com', 'principia-scientific.com', 'news-journalonline.com', 'seacoastonline.com', 'calmatters.org', 'glamour.com', 'ktnv.com', '247sports.com', 'thegailygrind.com', 'off-guardian.org', 'yaktrinews.com', 'who.int', 'indystar.com', 'ilpost.it', 'iowacapitaldispatch.com', 'dailyexpose.co.uk', 'pressherald.com', 'ctvnews.ca', 'nraila.org', 'sfexaminer.com', 'nbclosangeles.com', 'krdo.com', 'activistpost.com', 'thedispatch.com', 'unshackledminds.com', 'nola.com', 'geekwire.com', 'krqe.com', 'medpagetoday.com', 'boingboing.net', 'defensenews.com', 'thenewcivilrightsmovement.com', 'wtae.com', 'themoscowtimes.com', 'clarionledger.com', 'wochenblick.at', 'worldtruth.tv', 'truththeory.com', 'abc12.com', 'nbc15.com', 'returntonow.net', 'alphanewsmn.com', 'theathletic.com', 'shorenewsnetwork.com', 'wsav.com', 'trendingviews.co', 'arstechnica.com', 'beckershospitalreview.com', 'insideclimatenews.org', 'tmj4.com', 'news-journal.com', 'centralmaine.com', 'phoenixnewtimes.com', 'counterpunch.org', 'taz.de', 'conservativereview.com', 'pnj.com', 'wbay.com', 'tg24.sky.it', 'pagesix.com', 'wgal.com', 'historyofvaccines.org', 'savannahnow.com', 'lawfareblog.com', 'pe.com', 'thejeffreylord.com', '19thnews.org', 'theamericanconservative.com', 'thefulcrum.us', 'truepundit.com', 'wreg.com', 'theatlantavoice.com', 'technologyreview.com', 'montgomeryadvertiser.com', 'mynbc5.com', 'kctv5.com', 'floridianpress.com', 'khou.com', 'ilgiornale.it', 'france24.com', 'deseret.com', '9news.com', 'algemeiner.com', 'thefirsttv.com', 'euronews.com', 'helenair.com', 'wlos.com', 'hcn.org', 'refinery29.com', 'virginiamercury.com', 'realclearinvestigations.com', 'hangthecensors.com', 'patriotjournal.org', 'foxsanantonio.com', 'wftv.com', 'limesonline.com', 'themarshallproject.org', 'brownsvilleherald.com', 'lockportjournal.com', 'cbs42.com', 'order-order.com', 'floridaphoenix.com', 'spokesman.com', 'ktxs.com', 'bozemandailychronicle.com', 'wcnc.com', 'jdnews.com', '14news.com', 'wistv.com', 'nj1015.com', 'washingtonpress.com', 'si.com', 'necn.com', 'live5news.com', 'wwlp.com', 'globalresearch.ca', 'wltx.com', 'kfyrtv.com', 'qz.com', 'investopedia.com', 'kenoshareporter.com', 'adnkronos.com', 'newscientist.com', 'ksdk.com', 'texasmonthly.com', 'wicz.com', 'taskandpurpose.com', 'sungazette.com', 'wonkette.com', 'truthdig.com', 'nationalistreview.net', 'wilx.com', 'winknews.com', 'syracuse.com', 'engadget.com', 'katu.com', 'hollywoodreporter.com', 'kenbridgevictoriadispatch.com', 'channel4.com', 'brobible.com', 'pressdemocrat.com', 'arklatexhomepage.com', 'lasvegassun.com', 'themonitor.com', 'palmbeachpost.com', 'local21news.com', 'wrex.com', 'cleveland19.com', 'wtva.com', 'thetruthaboutguns.com', 'weather.com', 'earthjustice.org', 'ohiocapitaljournal.com', 'bringmethenews.com', 'savagetakes.com', 'myfox8.com', 'publicintegrity.org', 'ydr.com', 'hbr.org', 'cis.org', 'breakingreports.org', 'wpta21.com', 'commercialappeal.com', 'arkansasonline.com', 'dothanfirst.com', 'kfoxtv.com', 'nbc12.com', 'wset.com', 'newscentermaine.com', 'techstartups.com', 'fox13now.com', 'freedomfictions.com', 'healthandmoneynews.wordpress.com', 'mightymichigan.com', 'mayoclinic.org', 'hrc.org', 'tatersgonnatate.com', 'kcbd.com', 'baystatebanner.com', 'wnyc.org', 'washingtonian.com', 'upnorthnewswi.com', 'wgme.com', 'allthatsinteresting.com', 'globalnews.ca', 'ijr.com', 'week.com', 'kesq.com', 'hessenschau.de', 'wbrc.com', 'wjtv.com', '13abc.com', 'open.online', 'usmagazine.com', 'chemicalviolence.com', 'fredericksburg.com', 'wavy.com', 'wpxi.com', 'opensecrets.org', 'magadoodle.com', 'dailyworldupdate.us', 'wctv.tv', 'news-leader.com', 'mediapost.com', 'ketv.com', 'coloradosun.com', 'keystonenewsroom.com', 'wired.it', 'wwmt.com', 'wtmj.com', 'columbusmonthly.com', 'salisburypost.com', 'michigancapitolconfidential.com', 'macleans.ca', 'newson6.com', 'abc6onyourside.com', 'q13fox.com', 'christianitytoday.com', 'dailyyonder.com', 'morningstaronline.co.uk', 'nevadacurrent.com', 'themarysue.com', 'dailystar.co.uk', 'billboard.com', 'waff.com', 'wtoc.com', 'kgun9.com', 'loudountimes.com', 'nwahomepage.com', 'wdio.com', 'floridatoday.com', 'wpr.org', 'arktimes.com', 'vladtv.com', 'channel3000.com', 'wkyc.com', 'desertsun.com', 'aarp.org', 'obamawatcher.com', 'wkbw.com', 'ky3.com', 'nationalrighttolifenews.org', 'khn.org', 'boston25news.com', 'wsmv.com', 'duluthnewstribune.com', 'wausaudailyherald.com', 'vcstar.com', 'scarymommy.com', 'poughkeepsiejournal.com', 'pilotonline.com', 'kotaku.com', 'iowapublicradio.org', 'wsfa.com', 'wishtv.com', 'heraldcourier.com', 'petoskeynews.com', 'courierpress.com', 'livekindly.co', 'thegazette.com', 'nejm.org', 'nbcbayarea.com', 'knoxnews.com', 'ktar.com', 'bangordailynews.com', 'campusreform.org', 'gopusa.com', 'christiantoday.com', 'abc17news.com', 'cincinnati.com', 'remezcla.com', 'news-press.com', 'lacrunadellago.net', 'thrillist.com', 'tgcom24.mediaset.it', 'turnto23.com', 'trunews.com', 'arcamax.com', 'adweek.com', 'carolinajournal.com', 'lockhaven.com', 'wfmynews2.com', 'townandcountrymag.com', 'thecollegefix.com', 'greatfallstribune.com', 'fox40.com', 'kjrh.com', 'thelondoneconomic.com', 'azcapitoltimes.com', 'news-herald.com', 'heraldnet.com', 'eastbaytimes.com', 'governing.com', 'rte.ie', 'timesleader.com', 'fox5dc.com', 'wweek.com', 'vulture.com', 'wbrz.com', '1011now.com', 'sciencemag.org', 'lcsun-news.com', 'indiewire.com', 'burlingtoncountytimes.com', 'therepublic.com', 'nbcdfw.com', 'nbcmontana.com', 'wboc.com', 'sciencedaily.com', 'wkrg.com', 'scenarieconomici.it', 'citizensvoice.com', 'journaltimes.com', 'tpi.it', 'elephantjournal.com', 'kcrg.com', 'kmph.com', 'abovethelaw.com', 'kvia.com', 'news-medical.net', 'cbs12.com', 'nbcchicago.com', 'weareiowa.com', 'consumerreports.org', 'texasobserver.org', 'ktvn.com', 'azmirror.com', 'pacificpundit.com', 'news-gazette.com', 'idsnews.com', 'wbtw.com', 'eonline.com', 'mysuncoast.com', 'silive.com', 'theamericanmirror.com', 'wkbn.com', 'jezebel.com', 'charlestoncitypaper.com', 'kmov.com', 'theblackdetour.com', 'presstv.com', 'ksla.com', 'pjstar.com', 'kcci.com', 'wkrn.com', 'venturebeat.com', 'greenmatters.com', 'ladbible.com', 'the-scientist.com', 'theherald-news.com', 'post-journal.com', 'galesburg.com', 'dailyherald.com', 'thestreet.com', '4029tv.com', 'freiewelt.net', 'edweek.org', 'lex18.com', 'vaccines.gov', 'newsleader.com', 'wpri.com', 'wlox.com', 'kens5.com', 'nationalgeographic.com', 'ktul.com', 'vegnews.com', 'kcentv.com', 'humorousmathematics.com', 'wrbl.com', 'greatamericanpolitics.com', 'linkiesta.it', 'metro.us', 'vvdailypress.com', 'poconorecord.com', 'telemundo47.com', 'courrierinternational.com', 'pahomepage.com', 'metrotimes.com', 'spiked-online.com', 'rollingout.com', 'conservativewoman.co.uk', 'koaa.com', 'leavenworthtimes.com', 'digitaltrends.com', 'thinkamericana.com', 'robbreport.com', 'koat.com', 'the74million.org', 'nonpareilonline.com', 'mypanhandle.com', 'wsaw.com', 'rapidcityjournal.com', 'newschannel9.com', 'onlineathens.com', 'pri.org', 'news5cleveland.com', 'publicopiniononline.com', 'wpbf.com', 'adage.com', 'kqed.org', 'southbendtribune.com', 'therealnews.com', 'orlandoweekly.com', 'wgrz.com', 'wamu.org', 'marylandmatters.org', 'ktvz.com', 'spiegel.de', 'santafenewmexican.com', 'kxnet.com', 'valleycentral.com', 'wlbt.com', 'kusi.com', 'gainesville.com', 'fox17online.com', 'gandernewsroom.com', 'westword.com', 'blackdoctor.org', 'wxii12.com', 'wpln.org', 'fox23.com', 'newschannel5.com', 'leadstories.com', 'chicagodefender.com', 'capradio.org', 'ebony.com', 'birminghammail.co.uk', 'uticaod.com', 'wcia.com', 'neonrevolt.com', 'nationalinterest.org', 'theledger.com', 'britannica.com', 'poststar.com', 'globalcitizen.org', 'texomashomepage.com', 'sunjournal.com', 'wspa.com', 'bustatroll.org', 'airforcetimes.com', 'vaticannews.va', 'wjhl.com', 'wmtw.com', 'cjonline.com', 'themindunleashed.com', 'dentonrc.com', 'bucyrustelegraphforum.com', 'ktvb.com', 'tass.com', 'hongkongfp.com', 'irishcentral.com', 'walb.com', 'globaltimes.cn', 'leoaffairs.com', 'roanoke.com', 'wtvy.com', 'huffingtonpost.com', 'bakersfieldnow.com', 'fox2now.com', 'cosmopolitan.com', 'fox19.com', 'darkoutpost.com', 'centralillinoisproud.com', 'thevaccinereaction.org', 'azdailysun.com', 'wfsb.com', 'weny.com', 'boredpanda.com', 'dailybreeze.com', 'kwch.com', 'kttc.com', 'americanprogress.org', 'wearethemighty.com', 'theamericanonews.com', 'amny.com', 'djournal.com', 'qctimes.com', 'journalstar.com', 'greenvilleonline.com', 'percolately.com', 'ncpolicywatch.com', 'sj-r.com', 'stern.de', 'kiplinger.com', 'keprtv.com', 'mystateline.com', 'okcfox.com', 'columbiatribune.com', 'kbtx.com', 'moneytalksnews.com', 'mindbodygreen.com', 'theplayerstribune.com', '13wmaz.com', 'wafb.com', 'expressnews.com', 'charlottestories.com', 'ew.com', 'chaospost.com', 'milforddailynews.com', 'nbc11news.com', 'ilmessaggero.it', 'sentinelcolorado.com', 'myhighplains.com', 'newstatesman.com', 'clutchpoints.com', 'thriveglobal.com', 'armytimes.com', 'rollingstone.it', 'everythinglubbock.com', 'macombdaily.com', 'fosters.com', 'dayton247now.com', 'kimatv.com', 'krcgtv.com', 'thelibertarianrepublic.com', 'elkodaily.com', 'ksbw.com', 'ccn.com', 'aleteia.org', 'courierpostonline.com', 'barrons.com', 'augustachronicle.com', 'toofab.com', 'wowt.com', 'pottsmerc.com', 'sbsun.com', 'wtov9.com', 'infosecurity-magazine.com', 'khqa.com', 'kfor.com', 'wtol.com', 'wdel.com', 'wktv.com', 'cheddar.com', 'bostonmagazine.com', 'signalscv.com', 'wbir.com', 'fox13memphis.com', 'fox11online.com', 'reporterherald.com', 'actionnewsjax.com', 'thetimes.co.uk', 'healthnutnews.com', 'unilad.co.uk', 'cpr.org', 'totalprosports.com', 'ilfattoquotidiano.it', 'prevention.com', 'vtdigger.org', 'kevinmd.com', 'abc-7.com', 'khq.com', 'kbjr6.com', 'ktvl.com', 'yourerie.com', 'uk.news.yahoo.com', 'nbc16.com', 'opendemocracy.net', 'gucmakale.com', 'ivn.us', 'thehighwire.com', 'michiganradio.org', 'times-standard.com', 'dailynews.com', '12newsnow.com', 'libertybugle.com', 'blackhillsfox.com', 'swprs.org', 'foxcarolina.com', 'ksby.com', 'harpersbazaar.com', 'bigthink.com', 'afro.com', 'localsyr.com', 'austin360.com', 'dailycamera.com', 'ktsm.com', 'wqad.com', 'ny1.com', 'jameslyonsweiler.com', 'kare11.com', 'rgj.com', 'wsaz.com', 'vaccineimpact.com', 'ca.news.yahoo.com', 'theday.com', 'chicagoreader.com', 'freepressfront.com', 'leparisien.fr', 'nasa.gov', 'heralddemocrat.com', 'annistonstar.com', 'oklahoman.com', 'dcist.com', 'bismarcktribune.com', 'mainepublic.org', 'medscape.com', 'ilsussidiario.net', 'eurweb.com', 'sputniknews.com', 'georgiarecorder.com', 'objectivist.co', 'relevantmagazine.com', 'hrw.org', 'deneenborelli.com', 'spokesman-recorder.com', '13newsnow.com', 'foxhole.news', 'thehour.com', 'brightvibes.com', 'wrdw.com', 'publicnewsservice.org', 'kxxv.com', 'wmar2news.com', 'kwwl.com', 'standard.net', 'justjared.com', 'app.com', 'aldianews.com', 'chieftain.com', 'weau.com', 'wjbf.com', 'oanow.com', 'ourworldindata.org', 'lansingstatejournal.com', 'wevv.com', 'oye.news', 'yourcentralvalley.com', 'citizen-times.com', 'westhawaiitoday.com', 'cnycentral.com', 'wgxa.tv', 'finishtherace.com', 'conservativetears.com', 'cruxnow.com', 'bleacherreport.com', 'wbko.com', 'adirondackdailyenterprise.com', 'wkow.com', 'khon2.com', 'shared.us', 'lifehacker.com', 'dailypatriotreport.com', 'pastemagazine.com', 'mtpr.org', 'mother.ly', 'curbed.com', 'wfmj.com', 'kion546.com', 'potatriotsunite.com', 'dmlnewsapp.com', 'cbs7.com', 'intellihub.com', 'news9.com', 'theoaklandpress.com', 'kfvs12.com', 'vaildaily.com', 'mauinews.com', 'nursingtimes.net', 'kold.com', 'jamanetwork.com', 'boreddaddy.com', 'wired.co.uk', 'derstandard.at', 'wfxg.com', 'lehighvalleylive.com', 'wyff4.com', 'myheraldreview.com', 'kstp.com', 'hollywoodlife.com', 'delmarvanow.com', 'free-speechfront.info', 'freedomplatform.tv', 'lancasteronline.com', 'fox7austin.com', 'quifinanza.it', 'althealthworks.com', 'thehealthyamerican.org', 'dailybulletin.com', 'thv11.com', 'themix.net', 'lenconnect.com', 'cbs4indy.com', 'bigcountryhomepage.com', 'lbc.co.uk', 'thesmokinggun.com', 'kpax.com', 'ruptly.tv', 'cantonrep.com', 'greensboro.com', 'arabnews.com', 'politicsonline.net', 'fayobserver.com', 'ocala.com', 'fredericknewspost.com', 'capitalgazette.com', 'dreddymd.com', 'nny360.com', 'daytondailynews.com', 'dailyfreeman.com', 'wfmz.com', 'deadspin.com', 'gq.com', 'northcountrynow.com', 'stlamerican.com', 'lowellsun.com', 'delawareonline.com', 'houstonpublicmedia.org', '13wham.com', 'northmianews.com', 'shelbycountyreporter.com', 'rocketcitynow.com', 'ilsole24ore.com', 'pressenza.com', 'papaboys.org', 'deconstructingconventional.com', 'chronicle.com', 'krgv.com', 'themighty.com', 'wtvm.com', 'wjcl.com', 'amarillo.com', 'nbcsandiego.com', 'newpittsburghcourier.com', 'kfdm.com', 'wrcbtv.com', 'dworkinreport.com', 'treehugger.com', 'theragingpatriot.com', 'nebraska.tv', 'scallywagandvagabond.com', 'inc.com', 'churchleaders.com', 'lohud.com', 'canoncitydailyrecord.com', 'pnas.org', 'houstonrepublic.com', 'hollandsentinel.com', 'concordmonitor.com', 'intelligentliving.co', 'politicalite.com', 'missingkids.org', 'globalist.it', 'presstelegram.com', 'fox10tv.com', 'dailyrepublic.com', 'ouest-france.fr', 'theunion.com', 'invisiblepeople.tv', 'mansfieldnewsjournal.com', 'affaritaliani.it', 'keyc.com', 'wate.com', 'wsiltv.com', 'state-journal.com', 'cfr.org', 'wnyt.com', 'liverpoolecho.co.uk', 'kktv.com', 'yourblackworld.net', 'myfox28columbus.com', 'palmbeachdailynews.com', 'maineexaminer.com', 'gazettextra.com', 'wnycstudios.org', 'shondaland.com', 'wakeup-world.com', 'qconline.com', 'thesunchronicle.com', 'daily-times.com', 'citypages.com', 'dailypoliticalnewswire.com', 'charismamag.com', 'bossip.com', 'kobi5.com', 'mycentraljersey.com', 'yakimaherald.com', 'starnewsonline.com', 'cbs19.tv', 'sevendaysvt.com', 'minnpost.com', 'dailyjournalonline.com', 'mainebeacon.com', 'lepoint.fr', 'press-citizen.com', 'abc6.com', 'tristatehomepage.com', 'thedailystar.com', 'bakersfield.com', 'legitim.ch', 'irishpost.com', 'wnem.com', 'businessinsider.fr', 'nwfdailynews.com', 'havasunews.com', 'wbng.com', 'disabilityscoop.com', 'eater.com', 'dailygazette.com', 'kxii.com', 'riverfronttimes.com', 'ozarksfirst.com', 'popsci.com', 'diversityinc.com', 'awm.com', 'jalopnik.com', 'newser.com', 'heraldbulletin.com', 'starpolitical.com', 'sentinel-standard.com', 'whnt.com', 'followthemoney.org', 'kulr8.com', 'kpic.com', 'theminnesotasun.com', 'democratandchronicle.com', 'thesouthern.com', 'hutchnews.com', 'wcbi.com', 'marketplace.org', 'micapitolnews.com', 'focus.de', 'kalb.com', 'unionrecorder.com', 'tpr.org', 'dailycal.org', 'kwtx.com', 'pressandguide.com', 'thereporteronline.com', 'uschamber.com', 'insidehighered.com', 'alz.org', 'record-bee.com', 'wvnews.com', 'anthonyblogan.com', 'thevintagenews.com', 'uncut-news.ch', 'conspiracydailyupdate.com', 'niagara-gazette.com', 'wearecentralpa.com', 'wect.com', 'pharmaceuticalfraud.com', 'travelandleisure.com', 'kmvt.com', 'goerie.com', 'unionesarda.it', 'kagstv.com', 'internazionale.it', 'nybooks.com', 'thevision.com', 'ktre.com', 'jeffrainforth.com', 'rivistastudio.com', 'bylinetimes.com', 'abc7amarillo.com', 'verywellhealth.com', 'thecanary.co', 'galvnews.com', 'ilsecoloxix.it', 'nomorefakenews.com', 'goodmenproject.com', 'auburnpub.com', 'wane.com', 'theohiostar.com', 'civilbeat.org', 'kake.com', 'kcchronicle.com', 'inverse.com', 'biospace.com', 'statesmanjournal.com', 'studyfinds.org', 'stopmandatoryvaccination.com', 'gao.gov', 'abc57.com', 'nwitimes.com', 'newslanded.com', 'awarenessact.com', 'vernoncoleman.com', 'blackpressusa.com', 'mentalfloss.com', 'kotatv.com', 'heart.org', 'newstribune.com', 'newyorkupstate.com', 'kyma.com', 'limaohio.com', 'civileats.com', 'thenewsstar.com', 'kplctv.com', 'phillytrib.com', 'telegram.com', 'currentargus.com', 'lastampa.it', 'inews.co.uk', 'ksnt.com', 'postindependent.com', '2020news.de', 'mininggazette.com', 'missoulian.com', 'tiphero.com', 'medicalfacts.it', 'thetimes-tribune.com', 'wdtn.com', 'thescore.com', 'knewz.com', 'mynews4.com', 'turnto10.com', 'thedodo.com', 'kaaltv.com', 'dailypress.com', 'amsterdamnews.com', 'shreveporttimes.com', 'redlandsdailyfacts.com', 'outsideonline.com', 'yorkshirepost.co.uk', 'witn.com', 'vactruth.com', 'kolotv.com', 'byoblu.com', 'defiantamerica.com', 'thepennyhoarder.com', 'patriotledger.com', 'redstatewatcher.com', 'thelancet.com', 'wifr.com', 'newswest9.com', 'recordonline.com', 'lettera43.it', 'jacksonsun.com', 'itemlive.com', 'wacotrib.com', 'deutsche-wirtschafts-nachrichten.de', 'watergate.tv', 'abajournal.com', 'milanofinanza.it', 'wnct.com', 'boisestatepublicradio.org', 'yournewswire.com', 'thetrace.org', 'technologynetworks.com', 'mytwintiers.com', 'joplinglobe.com', 'nih.gov', 'bendbulletin.com', 'richmondregister.com', 'kdminer.com', 'tribdem.com', 'kuow.org', 'firstamendment.news', 'minotdailynews.com', 'dnronline.com', 'geologyin.com', 'onegreenplanet.org', 'brainerddispatch.com', 'formiche.net', 'tauntongazette.com', 'radio.foxnews.com', 'francetvinfo.fr', 'altermedzentrum.com', 'lincolnshirelive.co.uk', 'thinkinghumanity.com', 'wcti12.com', 'thoughtcatalog.com', 'wiscnews.com', 'kut.org', 'localmemphis.com', 'vesuviolive.it', 'wmdt.com', 'timesenterprise.com', 'wtvq.com', 'progress-index.com', 'icandecide.org', 'womenshealthmag.com', 'thewashingtonstandard.com', 'explainlife.com', 'idahonews.com', 'pressofatlanticcity.com', 'gospanews.net', 'mobile.yahoo.com', 'itv.com', 'rickeysmileymorningshow.com', 'pasadenastarnews.com', 'alternatives-economiques.fr', 'heraldnews.com', 'kshb.com', 'easttexasmatters.com', 'southernminn.com', 'money.it', 'ozy.com', 'nextshark.com', 'eveningtribune.com', 'thetruthaboutvaccines.com', 'conservative-daily.com', 'cookpolitical.com', 'dailylocal.com', 'pressrepublican.com', 'trib.com', 'worldnewsdailyreport.com', 'sportingnews.com', 'aappublications.org', 'ourmidland.com', 'voxpoliticalonline.com', 'nicolaporro.it', 'cairnsnews.org', 'chicoer.com', 'cbs19news.com', 'wvlt.tv', 'argusleader.com', 'verywellmind.com', 'localnews8.com', 'wmcactionnews5.com', 'seattlepi.com', 'cbs4local.com', 'queenseagle.com', 'ctpost.com', 'reporternews.com', 'consultqd.clevelandclinic.org', 'keloland.com', 'kval.com', 'theheartysoul.com', 'tvguide.com', 'rewirenewsgroup.com', 'morningjournalnews.com', 'welt.de', 'cumberlink.com', 'psmag.com', 'swissinfo.ch', 'northwestgeorgianews.com', 'lefigaro.fr', 'ukcolumn.org', 'agi.it', 'actionnewsnow.com', 'idahopress.com', 'eptrail.com', 'wandtv.com', 'focusonthefamily.com', 'goupstate.com', 'kveller.com', 'valeursactuelles.com', 'english.alarabiya.net', 'greeleytribune.com', 'physiciansforinformedconsent.org', 'controinformazione.info', 'newsadvance.com', 'nbcsports.com', 'klfy.com', 'counton2.com', 'littlethings.com', 'thepoke.co.uk', 'gaytimes.co.uk', 'renovatio21.com', 'spotlightpa.org', 'weirtondailytimes.com', 'greenwichtime.com', 'klkntv.com', 'wabi.tv', 'project-syndicate.org', 'thenational.scot', 'elitereaders.com', 'wvpublic.org', 'wakingtimes.com', 'newyorkbeacon.com', 'nami.org', 'wpsdlocal6.com', 'buckscountycouriertimes.com', 'yc.news', 'lbpost.com', 'hcqmeta.com', 'metrowestdailynews.com', 'bristolpost.co.uk', 'mindy-fischer-writer.com', 'xinhuanet.com', 'gadsdentimes.com', 'deutsch.rt.com', 'fdlreporter.com', 'eagletribune.com', 'weatherforddemocrat.com', 'dailyrecord.co.uk', 'krcrtv.com', 'ktbs.com', 'miningjournal.net', 'westernmassnews.com', 'ewg.org', 'lubbockonline.com', 'kyoutv.com', 'today.it', 'observer.com', 'healthfeedback.org', 'joe.co.uk', 'cjr.org', 'kltv.com', 'medicinenet.com', 'fatherly.com', 'ap.org', 'livingstondaily.com', 'theadvertiser.com', 'timesdaily.com', 'protocol.com', 'atlasobscura.com', 'tribstar.com', 'blueridgenow.com', 'contagionlive.com', 'georgetakei.com', 'magadailyreport.com', 'examinerlive.co.uk', 'scnow.com', 'cancer.gov', 'apost.com', 'redbluffdailynews.com', 'kiiitv.com', 'thedailybanter.com', 'timescall.com', 'nerdist.com', 'whittierdailynews.com', 'techdirt.com', 'breakingchristiannews.com', 'mtshastanews.com', 'brproud.com', 'creativehealthyfamily.com', 'healio.com', 'americafirstprojects.com', 'starlocalmedia.com', 'valleynewslive.com', 'journalnow.com', 'journal-news.com', 'hudsonvalleypost.com', 'walesonline.co.uk', 'tagesschau.de', 'mtstandard.com', 'examiner-enterprise.com', 'athensreview.com', 'dayton.com', 'nvic.org', 'avvenire.it', 'toledoblade.com', 'dothaneagle.com', 'observer-reporter.com', 'crainsdetroit.com', 'whsv.com', 'educationpost.org', 'freespeechfront.net', 'michiganchronicle.com', 'themichiganstar.com', 'grandforksherald.com', 'wcfcourier.com', 'echo-pilot.com', 'waaytv.com', 'indexexpurgatorius.wordpress.com', 'manchestereveningnews.co.uk', 'w-j.co', 'espresso.repubblica.it', 'wcpo.com', 'intpolicydigest.org', 'wxow.com', 'niemanlab.org', 'thinkprogress.org', 'newschannel6now.com', 'jerseyshoreonline.com', 'oxygen.com', 'capjournal.com', 'parents.com', 'fiercepharma.com', '3newsnow.com', 'climatechangenews.com', 'heraldscotland.com', 'operationdisclosureofficial.com', 'navytimes.com', 'pravda-tv.com', 'commonwealthfund.org', 'knpr.org', 'truthuncensored.net', 'fox21news.com', 'fempositive.com', 'splinternews.com', 'dazeddigital.com', 'mamm.org', 'faz.net', 'miamitimesonline.com', 'amestrib.com', 'santacruzsentinel.com', 'paulsvalleydailydemocrat.com', 'covidtracking.com', 'vibe.com', 'wvmetronews.com', 'additudemag.com', 'healthrangerreport.com', 'sctimes.com', 'herald-review.com', 'dcourier.com', 'sgvtribune.com', 'theargus.co.uk', 'courier-tribune.com', 'thealpenanews.com', 'lemonde.fr', 'peterboroughtoday.co.uk', 'digitaljournal.com', 'coloradoan.com', 'southwalesargus.co.uk', 'wndu.com', 'wdtv.com', 'wach.com', 'rrstar.com', 'greatlakeswire.com', 'idahostatejournal.com', 'gulfnews.com', 'grabien.com', 'mkecitywire.com', 'elitedaily.com', 'tribtoday.com', 'femalista.com', 'wcax.com', 'rfdtv.com', 'crossville-chronicle.com', 'gardenstatetimes.com', 'innerstrength.zone', 'gainesvilletimes.com', 'newbernsj.com', 'kait8.com', 'ktiv.com', 'stgeorgeutah.com', 'elvocero.com', 'wthitv.com', 'bfmtv.com', 'lobservateur.com', 'theintelligencer.net', 'warontherocks.com', 'wikileaks.org', 'kten.com', 'cbs2iowa.com', 'godupdates.com', 'bdtonline.com', 'fanpage.it', 'ksn.com', 'romper.com', 'atlanticoquotidiano.it', 'cancerwisdom.net', 'theartnewspaper.com', 'anchoragepress.com', 'nbc26.com', 'maurizioblondet.it', 'daily-jeff.com', 'usatodaysun.com', 'norwichbulletin.com', 'wgnradio.com', 'normantranscript.com', 'krtv.com', 'ilriformista.it', 'liberoquotidiano.it', 'newstalkkzrg.com', 'postbulletin.com', 'corriereromagna.it', 'livekindly.com', 'primarydoctor.org', 'nascar.nbcsports.com', 'health.harvard.edu', 'inkfreenews.com', 'dnews.com', 'gloucestertimes.com', 'triad-city-beat.com', 'zdf.de', 'southcoasttoday.com', 'psychcentral.com', 'londonreal.tv', 'mountsinai.org', 'kitsapsun.com', 'magicvalley.com', 'postcrescent.com', 'washtimesherald.com', 'mayoclinichealthsystem.org', 'wqow.com', 'valigiablu.it', 'farmvilleherald.com', 'newsherald.com', 'montrosepress.com', 'gosanangelo.com', 'spectrumnews.org', 'watchuncensored.com', 'wtok.com', 'nhregister.com', 'chroniclet.com', 'ncnewsonline.com', 'kztv10.com', 'ithacajournal.com', 'theringer.com', 'hometownlife.com', 'clark.com', 'staugustine.com', 'austinchronicle.com', 'whatdoesitmean.com', 'federalreserve.gov', 'registerguard.com', 'frontiersman.com', 'komu.com', 'siouxcityjournal.com', 'katc.com', 'njherald.com', 'dailyitem.com', 'atlstandard.com', 'sanduskyregister.com', 'vaxxter.com', 'hightimes.com', 'anonymousnews.ru', 'zuerst.de', 'todaysparent.com', 'voltairenet.org', 'coventrytelegraph.net', 'tbrnews.com', 'berkshireeagle.com', 'myrecordjournal.com', 'ipswichstar.co.uk', 'indexjournal.com', 'lanuovabq.it', 'heise.de', 'houmatoday.com', 'houstonpress.com', 'inlander.com', 'racewar.news', 'readingeagle.com', 'leafly.com', 'anti-spiegel.ru', 'kdhnews.com', 'dailyprogress.com', 'fourstateshomepage.com', 'angelusnews.com', 'ftbagency.com', 'dmagazine.com', 'spotlightstories.co', 'hopkinsmedicine.org', 'norwalkreflector.com', 'francesoir.fr', 'newburyportnews.com', 'ivmmeta.com', 'kswo.com', 'pappaspost.com', 'ilmanifesto.it', 'thecalifornian.com', 'kinston.com', 'chalkbeat.org', 'salemnews.com', 'thetelegraph.com', 'wgno.com', 'nbc29.com', 'cnews.fr', 'journal-advocate.com', 'alamogordonews.com', 'iltempo.it', 'dakotanewsnow.com', 'mrt.com', 'ksltv.com', 'tahlequahdailypress.com', 'vita.it', 'pharmatimes.com', 'sciencefiles.org', 'srf.ch', 'daily-chronicle.com', 'newspressnow.com', 'thestar.co.uk', 'databaseitalia.it', 'n-tv.de', 'vadogwood.com', 'diamondandsilkinc.com', 'chop.edu', 'marinij.com', 'dailyworld.com', 'drsircus.com', 'wdef.com', 'reviewonline.com', 'marshallindependent.com', 'observertoday.com', 'westernslopenow.com', 'democratherald.com', 'grandcanyontimes.com', 'gal-dem.com', 'burlingtonfreepress.com', 'evolvepolitics.com', 'kopp-report.de', 'nvdaily.com', 'herald-dispatch.com', 'lakecountyjournal.com', 'brightside.me', 'sfbayview.com', 'washingtoncitypaper.com', 'britannianews.co.uk', 'thumbreporter.com', 'westonaprice.org', 'thewashingtondailynews.com', 'dailycitizen.news', 'mcphersonsentinel.com', 'everydayhealth.com', 'nbcrightnow.com', 'medicaldaily.com', 'upliftingtoday.com', 'ourquadcities.com', 'vindy.com', 'wctrib.com', 'policehour.co.uk', 'procon.org', 'oneidadispatch.com', 'cambridge-news.co.uk', 'americasfrontlinedoctorsummit.com', 'kwqc.com', 'catholicsay.com', 'jimbakkershow.com', 'pdxmonthly.com', 'crainsnewyork.com', 'heraldbanner.com', 'capegazette.com', 'covid19refusers.com', 'kellybroganmd.com', 'verywellfamily.com', 'mcdonoughvoice.com', 'valdostadailytimes.com', 'nba.nbcsports.com', 'tg.la7.it', 'frnewsreport.com', 'northeastnews.net', 'famigliacristiana.it', 'theeagle.com', 'kentlive.news', 'amnews.com', 'theweek.co.uk', 'thechurchnews.com', 'norfolkdailynews.com', 'shawmediaillinois.com', '12up.com', 'hechingerreport.org', 'globegazette.com', 'washingtonsources.org', 'sentinelsource.com', 'healthcareitnews.com', 'tahiti-infos.com', 'marionstar.com', 'alicetx.com', 'joebiden.info', 'familylifegoals.com', 'panorama.it', 'journalgazette.net', 'macrumors.com', 'dailypost.co.uk', 'hometownstations.com', 'hertsad.co.uk', 'parade.com', 'officer.com', 'c-vine.com', 'kq2.com', 'trentonian.com', 'wboy.com', 'pandata.org', 'mskcc.org', 'drugabuse.gov', 'daserste.de', 'ageofautism.com', 'gctelegram.com', 'herbs-info.com', 'kimt.com', 'monroenews.com', 'understandingcompassion.com', 'hattiesburgamerican.com', 'laweekly.com', 'eckansasnews.com', 'conwaydailysun.com', 'mariettatimes.com', 'mywebtimes.com', 'strategic-culture.org', 'hcqtrial.com', 'kearneyhub.com', 'mywabashvalley.com', 'clevelandjewishnews.com', 'c19study.com', 'kendallcountynow.com', 'bebest.website', 'mauinow.com', 'naturalhealth365.com', 'columbiamissourian.com', 'channel22news.com', 'thetimestribune.com', 'news12.com', 'kjct8.com', 'berkeleyside.com', 'tag24.de', 'newsomwatch.com', 'pi-news.net', 'firefightingnews.com', 'principia-scientific.org', 'timesleaderonline.com', 'fairmontsentinel.com', 'nbc24.com', 'cbn.com', 'beaumontenterprise.com', 'knoe.com', 'harpers.org', 'dailyecho.co.uk', 'techrepublic.com', 'whig.com', 'selmatimesjournal.com', 'gvnews.com', 'panews.com', 'sevalleytimes.com', 'clevelandbanner.com', 'minneapolisreview.com', 'insideover.com', 'morningjournal.com', 'gazettes.com', 'foxsports.com', 'oklahomawatch.org', 'thebeacon.media', 'ktvo.com', 'altoonamirror.com', 'labourlist.org', 'indeonline.com', 'powderedwigsociety.com', 'patriote.info', 'saechsische.de', 'newsblaze.com', 'kenfm.de', 'nordbayern.de', 'coloradoindependent.com', 'lancasterguardian.co.uk', 'dreuz.info', 'draxe.com', 'thewarhorse.org', 'wfxl.com', 'mercola.com', 'stopcensura.online', 'wgmd.com', 'leominsterchamp.com', 'created4health.org', 'kla.tv', 'tyranny.news', 'thetruthvoice.net', 'fullfact.org', 'oxfordeagle.com', 'journal-news.net', 'sudouest.fr', 'drudgereport.com', 'commercial-news.com', 'wvva.com', 'kbzk.com', 'c19ivermectin.com', 'educateinspirechange.org', 'tonganoxiemirror.com', 'connectiv.events', 'newenergyreport.com', 'thepolitics.online', 'wgem.com', 'liberation.fr', 'news-star.com', 'southernliving.com', 'cleburnetimesreview.com', 'meridianstar.com', 'dailycommercial.com', 'essexlive.news', 'drnorthrup.com', 'activistmommy.com', 'lonestarstandard.com', 'grandhaventribune.com', 'rocketnews.com', 'muskogeephoenix.com', 'texashillcountry.com', 'mylondon.news', 'californiahealthline.org', 'enidnews.com', 'irishnews.com', 'demingheadlight.com', 'maxim.com', 'news-bulletin.com', 'chillicothegazette.com', 'apalachtimes.com', 'pbcommercial.com', 'sbnation.com', 'franceculture.fr', 'heraldstaronline.com', 'ktuu.com', 'timesrepublican.com', 'eacourier.com', 'knbr.com', 'addictinginfo.com', 'sardiniapost.it', 'ktva.com', 'siouxlandproud.com', 'alexcityoutlook.com', 'rewire.news', 'battlecreekenquirer.com', 'lmtribune.com', 't-online.de', 'newstimes.com', 'jconline.com', 'leeds-live.co.uk', 'coppercourier.com', 'timesherald.com', 'shareably.net', 'sharonherald.com', 'bemidjipioneer.com', 'heraldstandard.com', 'inspiremore.com', 'sentinelandenterprise.com', 'jumblejoy.com', 'nashvillepost.com', 'mankatofreepress.com', 'ottawaherald.com', 'meadvilletribune.com', 'napavalleyregister.com', 'ilmattino.it', 'ksnblocal4.com', 'ktvh.com', 'thestarpress.com', 'dnj.com', 'record-courier.com', 'digiday.com', 'gds.it', 'thedrum.com', 'editorialedomani.it', '5pillarsuk.com', 'lalibre.be', 'espn.co.uk', 'flatheadbeacon.com', 'lincolncourier.com', 'francebleu.fr', 'theindependent.com', 'politics.co.uk', 'wisemindhealthybody.com', 'thescottishsun.co.uk', 'wtap.com', 'columbusalive.com', 'expressandstar.com', 'examiner.net', 'gay.it', 'peterboroughmatters.co.uk', 'gaystarnews.com', 'lucisphilippines.press', 'aspentimes.com', 'worldhealth.net', 'ketk.com', 'dailydemocrat.com', 'eveningsun.com', 'htrnews.com', 'glasgowlive.co.uk', 'therecord.com', 'theneweuropean.co.uk', 'coindesk.com', 'psychiatry.org', 'bamapolitics.com', 'cedars-sinai.org', 'faithit.com', 'ottumwacourier.com', 'pressandjournal.co.uk', 'seventeen.com', 'blitzquotidiano.it', 'healthy-holistic-living.com', 'recode.net', 'worldpoliticsreview.com', 'fox21online.com', 'morganton.com', 'dailyinterlake.com', 'ecdc.europa.eu', 'washingtoninformer.com', 'newsminer.com', 'dailyhealthpost.com', 'medlineplus.gov', 'didyouknowfacts.com', 'pride.com', 'memphisflyer.com'])"
     ]
    },
    {
     "name": "stdout",
     "output_type": "stream",
     "text": [
      "\n"
     ]
    }
   ],
   "source": [
    "print(accessable_domain.keys())"
   ]
  },
  {
   "cell_type": "code",
   "execution_count": 9,
   "metadata": {},
   "outputs": [
    {
     "name": "stderr",
     "output_type": "stream",
     "text": [
      "100%|██████████████████████████████████████████████████████████████████████████████| 2482/2482 [00:35<00:00, 69.80it/s]\n"
     ]
    }
   ],
   "source": [
    "result_sublink = crawler.checkSublink(accessable_domain,search_terms)"
   ]
  },
  {
   "cell_type": "code",
   "execution_count": 10,
   "metadata": {},
   "outputs": [
    {
     "name": "stderr",
     "output_type": "stream",
     "text": [
      "100%|█████████████████████████████████████████████████████████████████████████████| 2482/2482 [00:04<00:00, 555.16it/s]\n"
     ]
    }
   ],
   "source": [
    "result_adcontent = crawler.checkAdContent(accessable_domain,search_terms)"
   ]
  },
  {
   "cell_type": "code",
   "execution_count": 11,
   "metadata": {},
   "outputs": [
    {
     "data": {
      "text/html": [
       "<div>\n",
       "<style scoped>\n",
       "    .dataframe tbody tr th:only-of-type {\n",
       "        vertical-align: middle;\n",
       "    }\n",
       "\n",
       "    .dataframe tbody tr th {\n",
       "        vertical-align: top;\n",
       "    }\n",
       "\n",
       "    .dataframe thead th {\n",
       "        text-align: right;\n",
       "    }\n",
       "</style>\n",
       "<table border=\"1\" class=\"dataframe\">\n",
       "  <thead>\n",
       "    <tr style=\"text-align: right;\">\n",
       "      <th></th>\n",
       "      <th>domain</th>\n",
       "      <th>sublink_1</th>\n",
       "      <th>sublink_2</th>\n",
       "      <th>sublink_3</th>\n",
       "      <th>sublink_4</th>\n",
       "      <th>sublink_5</th>\n",
       "      <th>sublink_6</th>\n",
       "      <th>sublink_7</th>\n",
       "      <th>sublink_8</th>\n",
       "      <th>sublink_9</th>\n",
       "    </tr>\n",
       "  </thead>\n",
       "  <tbody>\n",
       "    <tr>\n",
       "      <td>0</td>\n",
       "      <td>tmz.com</td>\n",
       "      <td>0</td>\n",
       "      <td>6</td>\n",
       "      <td>10</td>\n",
       "      <td>2</td>\n",
       "      <td>18</td>\n",
       "      <td>2</td>\n",
       "      <td>14</td>\n",
       "      <td>17</td>\n",
       "      <td>11</td>\n",
       "    </tr>\n",
       "    <tr>\n",
       "      <td>1</td>\n",
       "      <td>forbes.com</td>\n",
       "      <td>0</td>\n",
       "      <td>28</td>\n",
       "      <td>11</td>\n",
       "      <td>3</td>\n",
       "      <td>5</td>\n",
       "      <td>2</td>\n",
       "      <td>60</td>\n",
       "      <td>21</td>\n",
       "      <td>17</td>\n",
       "    </tr>\n",
       "    <tr>\n",
       "      <td>2</td>\n",
       "      <td>msn.com</td>\n",
       "      <td>0</td>\n",
       "      <td>5</td>\n",
       "      <td>0</td>\n",
       "      <td>0</td>\n",
       "      <td>6</td>\n",
       "      <td>2</td>\n",
       "      <td>5</td>\n",
       "      <td>7</td>\n",
       "      <td>0</td>\n",
       "    </tr>\n",
       "    <tr>\n",
       "      <td>3</td>\n",
       "      <td>nbcnews.com</td>\n",
       "      <td>0</td>\n",
       "      <td>46</td>\n",
       "      <td>0</td>\n",
       "      <td>4</td>\n",
       "      <td>17</td>\n",
       "      <td>9</td>\n",
       "      <td>3</td>\n",
       "      <td>21</td>\n",
       "      <td>12</td>\n",
       "    </tr>\n",
       "    <tr>\n",
       "      <td>4</td>\n",
       "      <td>newsone.com</td>\n",
       "      <td>0</td>\n",
       "      <td>0</td>\n",
       "      <td>5</td>\n",
       "      <td>0</td>\n",
       "      <td>0</td>\n",
       "      <td>0</td>\n",
       "      <td>0</td>\n",
       "      <td>0</td>\n",
       "      <td>4</td>\n",
       "    </tr>\n",
       "  </tbody>\n",
       "</table>\n",
       "</div>"
      ],
      "text/plain": [
       "        domain  sublink_1  sublink_2  sublink_3  sublink_4  sublink_5  \\\n",
       "0      tmz.com          0          6         10          2         18   \n",
       "1   forbes.com          0         28         11          3          5   \n",
       "2      msn.com          0          5          0          0          6   \n",
       "3  nbcnews.com          0         46          0          4         17   \n",
       "4  newsone.com          0          0          5          0          0   \n",
       "\n",
       "   sublink_6  sublink_7  sublink_8  sublink_9  \n",
       "0          2         14         17         11  \n",
       "1          2         60         21         17  \n",
       "2          2          5          7          0  \n",
       "3          9          3         21         12  \n",
       "4          0          0          0          4  "
      ]
     },
     "execution_count": 11,
     "metadata": {},
     "output_type": "execute_result"
    }
   ],
   "source": [
    "df_sublink = pd.DataFrame.from_dict(result_sublink)\n",
    "df_sublink.insert(loc=0, column='domain', value = accessable_domain.keys())\n",
    "df_sublink.columns = [\"sublink_\" + str(c) for c in list(df_sublink.columns)]\n",
    "df_sublink = df_sublink.rename(columns = {'sublink_domain': 'domain'})\n",
    "df_sublink.head()"
   ]
  },
  {
   "cell_type": "code",
   "execution_count": 12,
   "metadata": {},
   "outputs": [
    {
     "data": {
      "text/html": [
       "<div>\n",
       "<style scoped>\n",
       "    .dataframe tbody tr th:only-of-type {\n",
       "        vertical-align: middle;\n",
       "    }\n",
       "\n",
       "    .dataframe tbody tr th {\n",
       "        vertical-align: top;\n",
       "    }\n",
       "\n",
       "    .dataframe thead th {\n",
       "        text-align: right;\n",
       "    }\n",
       "</style>\n",
       "<table border=\"1\" class=\"dataframe\">\n",
       "  <thead>\n",
       "    <tr style=\"text-align: right;\">\n",
       "      <th></th>\n",
       "      <th>domain</th>\n",
       "      <th>adcontent_1</th>\n",
       "      <th>adcontent_2</th>\n",
       "      <th>adcontent_3</th>\n",
       "      <th>adcontent_4</th>\n",
       "      <th>adcontent_5</th>\n",
       "      <th>adcontent_6</th>\n",
       "      <th>adcontent_7</th>\n",
       "      <th>adcontent_8</th>\n",
       "      <th>adcontent_9</th>\n",
       "    </tr>\n",
       "  </thead>\n",
       "  <tbody>\n",
       "    <tr>\n",
       "      <td>0</td>\n",
       "      <td>tmz.com</td>\n",
       "      <td>0</td>\n",
       "      <td>2</td>\n",
       "      <td>0</td>\n",
       "      <td>0</td>\n",
       "      <td>0</td>\n",
       "      <td>0</td>\n",
       "      <td>0</td>\n",
       "      <td>0</td>\n",
       "      <td>0</td>\n",
       "    </tr>\n",
       "    <tr>\n",
       "      <td>1</td>\n",
       "      <td>forbes.com</td>\n",
       "      <td>0</td>\n",
       "      <td>0</td>\n",
       "      <td>0</td>\n",
       "      <td>0</td>\n",
       "      <td>0</td>\n",
       "      <td>0</td>\n",
       "      <td>0</td>\n",
       "      <td>0</td>\n",
       "      <td>0</td>\n",
       "    </tr>\n",
       "    <tr>\n",
       "      <td>2</td>\n",
       "      <td>msn.com</td>\n",
       "      <td>0</td>\n",
       "      <td>0</td>\n",
       "      <td>0</td>\n",
       "      <td>1</td>\n",
       "      <td>0</td>\n",
       "      <td>0</td>\n",
       "      <td>0</td>\n",
       "      <td>0</td>\n",
       "      <td>0</td>\n",
       "    </tr>\n",
       "    <tr>\n",
       "      <td>3</td>\n",
       "      <td>nbcnews.com</td>\n",
       "      <td>0</td>\n",
       "      <td>0</td>\n",
       "      <td>0</td>\n",
       "      <td>1</td>\n",
       "      <td>0</td>\n",
       "      <td>0</td>\n",
       "      <td>0</td>\n",
       "      <td>3</td>\n",
       "      <td>0</td>\n",
       "    </tr>\n",
       "    <tr>\n",
       "      <td>4</td>\n",
       "      <td>newsone.com</td>\n",
       "      <td>0</td>\n",
       "      <td>0</td>\n",
       "      <td>0</td>\n",
       "      <td>0</td>\n",
       "      <td>0</td>\n",
       "      <td>0</td>\n",
       "      <td>0</td>\n",
       "      <td>0</td>\n",
       "      <td>0</td>\n",
       "    </tr>\n",
       "  </tbody>\n",
       "</table>\n",
       "</div>"
      ],
      "text/plain": [
       "        domain  adcontent_1  adcontent_2  adcontent_3  adcontent_4  \\\n",
       "0      tmz.com            0            2            0            0   \n",
       "1   forbes.com            0            0            0            0   \n",
       "2      msn.com            0            0            0            1   \n",
       "3  nbcnews.com            0            0            0            1   \n",
       "4  newsone.com            0            0            0            0   \n",
       "\n",
       "   adcontent_5  adcontent_6  adcontent_7  adcontent_8  adcontent_9  \n",
       "0            0            0            0            0            0  \n",
       "1            0            0            0            0            0  \n",
       "2            0            0            0            0            0  \n",
       "3            0            0            0            3            0  \n",
       "4            0            0            0            0            0  "
      ]
     },
     "execution_count": 12,
     "metadata": {},
     "output_type": "execute_result"
    }
   ],
   "source": [
    "df_adcontent = pd.DataFrame.from_dict(result_adcontent)\n",
    "df_adcontent.insert(loc=0, column='domain', value = accessable_domain.keys())\n",
    "df_adcontent.columns = [\"adcontent_\" + str(c) for c in list(df_adcontent.columns)]\n",
    "df_adcontent = df_adcontent.rename(columns = {'adcontent_domain': 'domain'})\n",
    "df_adcontent.head()"
   ]
  },
  {
   "cell_type": "code",
   "execution_count": 13,
   "metadata": {},
   "outputs": [],
   "source": [
    "df_sublink.to_csv(\"data_sublink.csv\")\n",
    "df_adcontent.to_csv(\"data_adcontent.csv\")"
   ]
  },
  {
   "cell_type": "code",
   "execution_count": 14,
   "metadata": {},
   "outputs": [
    {
     "name": "stdout",
     "output_type": "stream",
     "text": [
      "['seattletimes.com', 'lawenforcementtoday.com', 'cnsnews.com', 'washingtonpost.com', 'gopdailybrief.com', 'pittsburgh.cbslocal.com', 'bipartisanreport.com', 'politi.co', 'disrn.com', 'miamiherald.com', 'losangeles.cbslocal.com', 'newsobserver.com', 'thepatriotjournal.com', 'wtop.com', 'sonsoflibertymedia.com', '2020electioncenter.com', 'americanindependent.com', 'people.com', 'americanjournaldaily.com', 'charlotteobserver.com', 'mcclatchydc.com', 'wired.com', 'sacbee.com', 'usnews.com', 'currently.att.yahoo.com', 'chicago.cbslocal.com', 'heritage.org', 'newyork.cbslocal.com', 'kansascity.com', 'bearingarms.com', 'baltimore.cbslocal.com', 'fresnobee.com', 'mol.im', 'sacramento.cbslocal.com', 'news.sky.com', 'spectator.co.uk', 'modbee.com', 'theduran.com', 'philadelphia.cbslocal.com', 'star-telegram.com', 'gazettenet.com', 'forbiddenknowledgetv.net', 'idahostatesman.com', 'kentucky.com', 'georgiastarnews.com', 'jewishpress.com', 'hereistheevidence.com', 'thestate.com', 'boston.cbslocal.com', 'madamenoire.com', 'miami.cbslocal.com', 'communityimpact.com', 'denver.cbslocal.com', 'postandcourier.com', 'gothamist.com', 'kansas.com', 'corrieredellumbria.corr.it', 'connectingvets.radio.com', 'thenewstribune.com', 'dfw.cbslocal.com', 'minnesota.cbslocal.com', 'uk.finance.yahoo.com', 'bradenton.com', 'trtworld.com', 'ledger-enquirer.com', 'es-us.noticias.yahoo.com', 'olympics.nbcsports.com', 'gwinnettdailypost.com', 'myrtlebeachonline.com', 'blacknewschannel.com', 'sanfrancisco.cbslocal.com', 'uk.reuters.com', 'christiannews.net', 'graphics.reuters.com', 'news8000.com', 'thestranger.com', 'ca.sports.yahoo.com', 'ca.finance.yahoo.com', 'them.us', 'jacksonfreepress.com', 'heraldsun.com', 'tri-cityherald.com', 'leadertelegram.com', 'unionleader.com', 'theolympian.com', 'health.clevelandclinic.org', 'gooddaysacramento.cbslocal.com', 'record-eagle.com', 'english.alaraby.co.uk', 'bnd.com', 'shareblue.com', 'news.wbfo.org', 'onmilwaukee.com', 'centredaily.com', 'pressgazette.co.uk', 'macon.com', 'flkeysnews.com', 'bellinghamherald.com', 'sanluisobispo.com', 'wwaytv3.com', 'conservativeangle.com', 'es.noticias.yahoo.com', 'buzzsawpolitics.com', 'peta.org', 'columbian.com', 'uk.sports.yahoo.com', 'highline.huffingtonpost.com', 'gnews.org', 'swvatoday.com', '1010wins.radio.com', 'sunherald.com', 'au.sports.yahoo.com', 'my.clevelandclinic.org', 'durangoherald.com', 'lasvegas.cbslocal.com', 'wenatcheeworld.com', 'profootballtalk.nbcsports.com', 'portlandmercury.com', 'au.finance.yahoo.com', 'heraldonline.com', 'de.rt.com', 'postnewsera.com', 'catholicherald.co.uk', 'allianceforscience.cornell.edu', 'sg.finance.yahoo.com', 'it.businessinsider.com', 'godfatherpolitics.com', 'nytimespost.com', 'sptnkne.ws', 'thewashingtontime.com', 'collider.com', 'mercedsunstar.com', 'islandpacket.com']\n"
     ]
    }
   ],
   "source": [
    "print(errors)"
   ]
  },
  {
   "cell_type": "code",
   "execution_count": null,
   "metadata": {},
   "outputs": [],
   "source": []
  }
 ],
 "metadata": {
  "kernelspec": {
   "display_name": "Python 3",
   "language": "python",
   "name": "python3"
  },
  "language_info": {
   "codemirror_mode": {
    "name": "ipython",
    "version": 3
   },
   "file_extension": ".py",
   "mimetype": "text/x-python",
   "name": "python",
   "nbconvert_exporter": "python",
   "pygments_lexer": "ipython3",
   "version": "3.7.4"
  }
 },
 "nbformat": 4,
 "nbformat_minor": 2
}
